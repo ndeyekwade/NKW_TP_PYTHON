{
 "cells": [
  {
   "cell_type": "markdown",
   "id": "d68c1dee",
   "metadata": {
    "id": "d68c1dee"
   },
   "source": [
    "# Practical_4: Flow control"
   ]
  },
  {
   "cell_type": "code",
   "execution_count": null,
   "id": "0da25e85-45fb-4b2c-abf4-e88eaacbb485",
   "metadata": {
    "id": "bea983a3"
   },
   "outputs": [],
   "source": [
    "---\n",
    "\n",
    "### Exercise 1:\n",
    "Write a Python program that checks if a number is positive or negative.\n",
    "\n",
    "```python"
   ]
  },
  {
   "cell_type": "code",
   "execution_count": 1,
   "id": "0affa549-15ab-4229-9ef2-2a68fec3aa7e",
   "metadata": {
    "id": "bea983a3"
   },
   "outputs": [
    {
     "name": "stdin",
     "output_type": "stream",
     "text": [
      "Entrez un nombre :  8\n"
     ]
    },
    {
     "name": "stdout",
     "output_type": "stream",
     "text": [
      "Le nombre est positif\n"
     ]
    }
   ],
   "source": [
    "# Exercise 1\n",
    "nombre = int(input(\"Entrez un nombre : \"))\n",
    "\n",
    "if nombre > 0:\n",
    "    print(\"Le nombre est positif\")\n",
    "elif nombre < 0:\n",
    "    print(\"Le nombre est négatif\")\n",
    "else:\n",
    "    print(\"Le nombre est zéro\")\n"
   ]
  },
  {
   "cell_type": "code",
   "execution_count": null,
   "id": "8870fc06-7242-4b83-95d7-4691f46a743d",
   "metadata": {
    "id": "bea983a3"
   },
   "outputs": [],
   "source": [
    "### Exercise 2:\n",
    "Write a Python function that checks if a string starts with a vowel.\n",
    "\n",
    "```python"
   ]
  },
  {
   "cell_type": "code",
   "execution_count": 5,
   "id": "ecdb3aef-3f13-4b52-95b8-459ad28bc33a",
   "metadata": {
    "id": "bea983a3"
   },
   "outputs": [
    {
     "name": "stdout",
     "output_type": "stream",
     "text": [
      "True\n"
     ]
    }
   ],
   "source": [
    "# Exercise 2\n",
    "def commence_par_voyelle(texte):\n",
    "    voyelles = \"aeiouAEIOU\"\n",
    "    if texte != \"\" and texte[0] in voyelles:\n",
    "        return True\n",
    "    else:\n",
    "        return False\n",
    "\n",
    "print(commence_par_voyelle(\"apple\"))  \n"
   ]
  },
  {
   "cell_type": "code",
   "execution_count": null,
   "id": "8cdc0a96-abf1-49f0-8b4e-8315b9f91866",
   "metadata": {
    "id": "bea983a3"
   },
   "outputs": [],
   "source": [
    "### Exercise 3:\n",
    "Write a Python program that takes a list of integers and prints \"Even\" for each even number and \"Odd\" for each odd number.\n",
    "\n",
    "```python"
   ]
  },
  {
   "cell_type": "code",
   "execution_count": 7,
   "id": "71fe2071-cf15-4ef3-92ab-299a0fbe6220",
   "metadata": {
    "id": "bea983a3"
   },
   "outputs": [
    {
     "name": "stdout",
     "output_type": "stream",
     "text": [
      "1 Odd\n",
      "2 Even\n",
      "3 Odd\n",
      "4 Even\n",
      "5 Odd\n",
      "6 Even\n"
     ]
    }
   ],
   "source": [
    "# Exercise 3\n",
    "nombres = [1, 2, 3, 4, 5, 6]\n",
    "for n in nombres:\n",
    "    if n % 2 == 0:\n",
    "        print(n, \"Even\")\n",
    "    else:\n",
    "        print(n, \"Odd\")\n"
   ]
  },
  {
   "cell_type": "code",
   "execution_count": null,
   "id": "cf368661-41a8-4a07-a488-6ea662868b28",
   "metadata": {
    "id": "bea983a3"
   },
   "outputs": [],
   "source": [
    "### Exercise 4:\n",
    "Write a Python program that checks if a given year is a leap year.\n",
    "\n",
    "```python"
   ]
  },
  {
   "cell_type": "code",
   "execution_count": 9,
   "id": "f1f990c8-7ac4-4ad9-ac24-5a481d211272",
   "metadata": {
    "id": "bea983a3"
   },
   "outputs": [
    {
     "name": "stdin",
     "output_type": "stream",
     "text": [
      "Entrez une année :  2024\n"
     ]
    },
    {
     "name": "stdout",
     "output_type": "stream",
     "text": [
      "2024 est une année bissextile\n"
     ]
    }
   ],
   "source": [
    "# Exercise 4\n",
    "annee = int(input(\"Entrez une année : \"))\n",
    "if (annee % 4 == 0 and annee % 100 != 0) or (annee % 400 == 0):\n",
    "    print(annee, \"est une année bissextile\")\n",
    "else:\n",
    "    print(annee, \"n'est pas une année bissextile\")\n"
   ]
  },
  {
   "cell_type": "code",
   "execution_count": null,
   "id": "6f275766-2d8a-4009-a353-64af5147c668",
   "metadata": {
    "id": "bea983a3"
   },
   "outputs": [],
   "source": [
    "### Exercise 5:\n",
    "Write a Python function that checks if a number is divisible by both 3 and 5.\n",
    "\n",
    "```python"
   ]
  },
  {
   "cell_type": "code",
   "execution_count": 11,
   "id": "a2ce2da3-8b6b-4171-90b4-6712543ab476",
   "metadata": {
    "id": "bea983a3"
   },
   "outputs": [
    {
     "name": "stdout",
     "output_type": "stream",
     "text": [
      "False\n"
     ]
    }
   ],
   "source": [
    "# Exercise 5\n",
    "def divisible_par_3_et_5(n):\n",
    "    if n % 3 == 0 and n % 5 == 0:\n",
    "        return True\n",
    "    else:\n",
    "        return False\n",
    "\n",
    "print(divisible_par_3_et_5(9))   "
   ]
  },
  {
   "cell_type": "code",
   "execution_count": null,
   "id": "a415bdbb-064a-4a41-ad41-385359377360",
   "metadata": {
    "id": "bea983a3"
   },
   "outputs": [],
   "source": [
    "### Exercise 6:\n",
    "Write a Python program that prints \"Hot\" if the temperature is above 30, \"Warm\" if it is between 15 and 30, and \"Cold\" if it is below 15.\n",
    "\n",
    "```python"
   ]
  },
  {
   "cell_type": "code",
   "execution_count": 13,
   "id": "970768ab-09a8-480b-942d-0e0fab91eca5",
   "metadata": {
    "id": "bea983a3"
   },
   "outputs": [
    {
     "name": "stdin",
     "output_type": "stream",
     "text": [
      "Entrez la température :  50\n"
     ]
    },
    {
     "name": "stdout",
     "output_type": "stream",
     "text": [
      "Hot\n"
     ]
    }
   ],
   "source": [
    "# Exercise 6\n",
    "temperature = int(input(\"Entrez la température : \"))\n",
    "\n",
    "if temperature > 30:\n",
    "    print(\"Hot\")\n",
    "elif 15 <= temperature <= 30:\n",
    "    print(\"Warm\")\n",
    "else:\n",
    "    print(\"Cold\")\n"
   ]
  },
  {
   "cell_type": "code",
   "execution_count": null,
   "id": "1b4d97ad-b1c7-491c-8d2c-0a914a0ef777",
   "metadata": {
    "id": "bea983a3"
   },
   "outputs": [],
   "source": [
    "### Exercise 7:\n",
    "Write a Python program that checks if a string contains the letter 'a'.\n",
    "\n",
    "```python"
   ]
  },
  {
   "cell_type": "code",
   "execution_count": 15,
   "id": "f6ff0c91-060b-4507-a99d-22c4c2ce0e53",
   "metadata": {
    "id": "bea983a3"
   },
   "outputs": [
    {
     "name": "stdin",
     "output_type": "stream",
     "text": [
      "Entrez une chaîne :  POIYUYGBA\n"
     ]
    },
    {
     "name": "stdout",
     "output_type": "stream",
     "text": [
      "La chaîne ne contient pas 'a'\n"
     ]
    }
   ],
   "source": [
    "# Exercise 7\n",
    "texte = input(\"Entrez une chaîne : \")\n",
    "if 'a' in texte:\n",
    "    print(\"La chaîne contient 'a'\")\n",
    "else:\n",
    "    print(\"La chaîne ne contient pas 'a'\")\n"
   ]
  },
  {
   "cell_type": "code",
   "execution_count": null,
   "id": "a632134b-0eaa-41bd-8b91-cf0ca24e89c5",
   "metadata": {
    "id": "bea983a3"
   },
   "outputs": [],
   "source": [
    "### Exercise 8:\n",
    "Write a Python function that checks if two numbers are equal, or which one is larger.\n",
    "\n",
    "```python"
   ]
  },
  {
   "cell_type": "code",
   "execution_count": 17,
   "id": "e3f9d6cf-10b6-454d-a27b-9aca5e58fdd6",
   "metadata": {
    "id": "bea983a3"
   },
   "outputs": [
    {
     "name": "stdout",
     "output_type": "stream",
     "text": [
      "10 est plus grand que 5\n"
     ]
    }
   ],
   "source": [
    "# Exercise 8\n",
    "def comparer(a, b):\n",
    "    if a == b:\n",
    "        print(\"Les nombres sont égaux\")\n",
    "    elif a > b:\n",
    "        print(a, \"est plus grand que\", b)\n",
    "    else:\n",
    "        print(b, \"est plus grand que\", a)\n",
    "\n",
    "\n",
    "comparer(5, 10)\n"
   ]
  },
  {
   "cell_type": "code",
   "execution_count": null,
   "id": "82707917-91f1-44f4-9566-0850046dad6d",
   "metadata": {
    "id": "bea983a3"
   },
   "outputs": [],
   "source": [
    "### Exercise 9:\n",
    "Write a Python program that checks if a list is empty.\n",
    "\n",
    "```python"
   ]
  },
  {
   "cell_type": "code",
   "execution_count": 19,
   "id": "ffed5518-7fbc-46b8-9292-47398a26885a",
   "metadata": {
    "id": "bea983a3"
   },
   "outputs": [
    {
     "name": "stdout",
     "output_type": "stream",
     "text": [
      "La liste est vide\n"
     ]
    }
   ],
   "source": [
    "# Exercise 9\n",
    "ma_liste = []\n",
    "\n",
    "if len(ma_liste) == 0:\n",
    "    print(\"La liste est vide\")\n",
    "else:\n",
    "    print(\"La liste n'est pas vide\")\n"
   ]
  },
  {
   "cell_type": "code",
   "execution_count": null,
   "id": "fd044317-5159-43a8-a91a-893ee9c0d46c",
   "metadata": {
    "id": "bea983a3"
   },
   "outputs": [],
   "source": [
    "### Exercise 10:\n",
    "Write a Python function that takes two strings and checks if they are anagrams.\n",
    "\n",
    "```python"
   ]
  },
  {
   "cell_type": "code",
   "execution_count": 21,
   "id": "8cdfa531-2902-4ce0-83e9-b0f40c626a43",
   "metadata": {
    "id": "bea983a3"
   },
   "outputs": [
    {
     "name": "stdout",
     "output_type": "stream",
     "text": [
      "False\n"
     ]
    }
   ],
   "source": [
    "# Exercise 10\n",
    "def sont_anagrammes(s1, s2):\n",
    "    if sorted(s1) == sorted(s2):\n",
    "        return True\n",
    "    else:\n",
    "        return False\n",
    "\n",
    "print(sont_anagrammes(\"apple\", \"pale\"))   \n"
   ]
  },
  {
   "cell_type": "code",
   "execution_count": null,
   "id": "656b1aa3-217c-4a2c-b235-fc0b770aec30",
   "metadata": {
    "id": "bea983a3"
   },
   "outputs": [],
   "source": [
    "### Exercise 11:\n",
    "Write a Python program that checks if a number is prime.\n",
    "\n",
    "```python"
   ]
  },
  {
   "cell_type": "code",
   "execution_count": 23,
   "id": "1c8cad55-8841-4e9c-90ff-26b9ef01ed32",
   "metadata": {
    "id": "bea983a3"
   },
   "outputs": [
    {
     "name": "stdout",
     "output_type": "stream",
     "text": [
      "True\n"
     ]
    }
   ],
   "source": [
    "# Exercise 11\n",
    "def est_premier(n):\n",
    "    if n <= 1:\n",
    "        return False\n",
    "    for i in range(2, n):\n",
    "        if n % i == 0:\n",
    "            return False\n",
    "    return True\n",
    "\n",
    "print(est_premier(7))  \n"
   ]
  },
  {
   "cell_type": "code",
   "execution_count": null,
   "id": "44958a89-62cd-46f9-bba7-52e10b0831a2",
   "metadata": {
    "id": "bea983a3"
   },
   "outputs": [],
   "source": [
    "### Exercise 12:\n",
    "Write a Python program that checks if a list of numbers is sorted in ascending order.\n",
    "\n",
    "```python"
   ]
  },
  {
   "cell_type": "code",
   "execution_count": 25,
   "id": "284afccc-2605-45e5-aace-cc29dc475d43",
   "metadata": {
    "id": "bea983a3"
   },
   "outputs": [
    {
     "name": "stdout",
     "output_type": "stream",
     "text": [
      "False\n"
     ]
    }
   ],
   "source": [
    "# Exercise 12\n",
    "def est_triee(liste):\n",
    "    for i in range(len(liste) - 1):\n",
    "        if liste[i] > liste[i + 1]:\n",
    "            return False\n",
    "    return True\n",
    "print(est_triee([1, 3, 2, 4]))  \n"
   ]
  },
  {
   "cell_type": "code",
   "execution_count": null,
   "id": "ebbb29d2-e769-443d-a0fb-b9f315667c4c",
   "metadata": {
    "id": "bea983a3"
   },
   "outputs": [],
   "source": [
    "### Exercise 13:\n",
    "Write a Python function that takes a character and checks if it is a digit.\n",
    "\n",
    "```python"
   ]
  },
  {
   "cell_type": "code",
   "execution_count": 27,
   "id": "1ec27b79-2b5f-49a0-b872-a73c5127877f",
   "metadata": {
    "id": "bea983a3"
   },
   "outputs": [
    {
     "name": "stdout",
     "output_type": "stream",
     "text": [
      "False\n"
     ]
    }
   ],
   "source": [
    "# Exercise 13\n",
    "def est_chiffre(c):\n",
    "    return c.isdigit()\n",
    "\n",
    "print(est_chiffre(\"a\"))  \n"
   ]
  },
  {
   "cell_type": "code",
   "execution_count": null,
   "id": "e00ed0b4-106f-43b7-8586-92f849889979",
   "metadata": {
    "id": "bea983a3"
   },
   "outputs": [],
   "source": [
    "### Exercise 14:\n",
    "Write a Python function that checks if a string contains only uppercase letters.\n",
    "\n",
    "```python"
   ]
  },
  {
   "cell_type": "code",
   "execution_count": 31,
   "id": "d1186ed7-f16d-49d4-81e0-4d11952a55b2",
   "metadata": {
    "id": "bea983a3"
   },
   "outputs": [
    {
     "name": "stdout",
     "output_type": "stream",
     "text": [
      "True\n"
     ]
    }
   ],
   "source": [
    "# Exercise 14\n",
    "def est_majuscule(s):\n",
    "    return s.isupper()\n",
    "\n",
    "print(est_majuscule(\"HELLO\")) \n",
    "\n"
   ]
  },
  {
   "cell_type": "code",
   "execution_count": null,
   "id": "3bd95edf-f37e-45e8-b199-17ce97b0d12e",
   "metadata": {
    "id": "bea983a3"
   },
   "outputs": [],
   "source": [
    "### Exercise 15:\n",
    "Write a Python program that checks if a number is a multiple of 10.\n",
    "\n",
    "```python"
   ]
  },
  {
   "cell_type": "code",
   "execution_count": 33,
   "id": "37964adb-db2b-48b1-9b10-0e72223b83f9",
   "metadata": {
    "id": "bea983a3"
   },
   "outputs": [
    {
     "name": "stdout",
     "output_type": "stream",
     "text": [
      "50 est multiple de 10\n"
     ]
    }
   ],
   "source": [
    "# Exercise 15\n",
    "nombre = 50\n",
    "if nombre % 10 == 0:\n",
    "    print(nombre, \"est multiple de 10\")\n",
    "else:\n",
    "    print(nombre, \"n'est pas multiple de 10\")\n"
   ]
  },
  {
   "cell_type": "code",
   "execution_count": null,
   "id": "890e87a3-6b11-435b-a5ba-61d84c52ee18",
   "metadata": {
    "id": "bea983a3"
   },
   "outputs": [],
   "source": [
    "### Exercise 16:\n",
    "Write a Python function that checks if a list contains any duplicates.\n",
    "\n",
    "```python"
   ]
  },
  {
   "cell_type": "code",
   "execution_count": 35,
   "id": "78b907d0-65b4-46d1-b95c-8f8cf3210189",
   "metadata": {
    "id": "bea983a3"
   },
   "outputs": [
    {
     "name": "stdout",
     "output_type": "stream",
     "text": [
      "True\n"
     ]
    }
   ],
   "source": [
    "# Exercise 16\n",
    "def doublons(liste):\n",
    "    for i in range(len(liste)):\n",
    "        for j in range(i + 1, len(liste)):\n",
    "            if liste[i] == liste[j]:\n",
    "                return True\n",
    "    return False\n",
    "\n",
    "print(doublons([1, 2, 3, 2])) \n"
   ]
  },
  {
   "cell_type": "code",
   "execution_count": null,
   "id": "00dcaf5a-1440-472c-a593-5de0785e8562",
   "metadata": {
    "id": "bea983a3"
   },
   "outputs": [],
   "source": [
    "### Exercise 17:\n",
    "Write a Python program that prints \"Teenager\" if the age is between 13 and 19, otherwise it prints \"Not a teenager.\"\n",
    "\n",
    "```python"
   ]
  },
  {
   "cell_type": "code",
   "execution_count": 39,
   "id": "67826b7e-a114-454e-8034-bca6ee2a64ea",
   "metadata": {
    "id": "bea983a3"
   },
   "outputs": [
    {
     "name": "stdout",
     "output_type": "stream",
     "text": [
      "Teenager\n"
     ]
    }
   ],
   "source": [
    "# Exercise 17\n",
    "age = 16\n",
    "if 13 <= age <= 19:\n",
    "    print(\"Teenager\")\n",
    "else:\n",
    "    print(\"Not a teenager\")\n"
   ]
  },
  {
   "cell_type": "code",
   "execution_count": null,
   "id": "41ab509c-dbcf-4d91-af72-d66da5705b63",
   "metadata": {
    "id": "bea983a3"
   },
   "outputs": [],
   "source": [
    "### Exercise 18:\n",
    "Write a Python function that checks if a list contains an element greater than 100.\n",
    "\n",
    "```python"
   ]
  },
  {
   "cell_type": "code",
   "execution_count": 41,
   "id": "157af79c-e2de-4bdc-8f9c-34fc699e05d7",
   "metadata": {
    "id": "bea983a3"
   },
   "outputs": [
    {
     "name": "stdout",
     "output_type": "stream",
     "text": [
      "True\n"
     ]
    }
   ],
   "source": [
    "# Exercise 18\n",
    "def superieur_a_100(liste):\n",
    "    for n in liste:\n",
    "        if n > 100:\n",
    "            return True\n",
    "    return False\n",
    "\n",
    "print(superieur_a_100([50, 101, 20]))  \n"
   ]
  },
  {
   "cell_type": "code",
   "execution_count": null,
   "id": "96819f5b-7ad8-47cd-9ac3-f52e0a6e55ad",
   "metadata": {
    "id": "bea983a3"
   },
   "outputs": [],
   "source": [
    "### Exercise 19:\n",
    "Write a Python program that checks if a number is even or odd.\n",
    "\n",
    "```python"
   ]
  },
  {
   "cell_type": "code",
   "execution_count": 43,
   "id": "cc78fc81-5d53-46f2-8f63-162199861bc1",
   "metadata": {
    "id": "bea983a3"
   },
   "outputs": [
    {
     "name": "stdout",
     "output_type": "stream",
     "text": [
      "Odd\n"
     ]
    }
   ],
   "source": [
    "# Exercise 19\n",
    "nombre = 7\n",
    "if nombre % 2 == 0:\n",
    "    print(\"Even\")\n",
    "else:\n",
    "    print(\"Odd\")\n"
   ]
  },
  {
   "cell_type": "code",
   "execution_count": null,
   "id": "9a6961bb-8890-494e-9090-a8b21846ed9b",
   "metadata": {
    "id": "bea983a3"
   },
   "outputs": [],
   "source": [
    "### Exercise 20:\n",
    "Write a Python function that checks if a string ends with a punctuation mark.\n",
    "\n",
    "```python"
   ]
  },
  {
   "cell_type": "code",
   "execution_count": 49,
   "id": "5a791f77-938a-4c4a-8685-55ef3b140e24",
   "metadata": {
    "id": "bea983a3"
   },
   "outputs": [
    {
     "name": "stdout",
     "output_type": "stream",
     "text": [
      "True\n"
     ]
    }
   ],
   "source": [
    "# Exercise 20\n",
    "def finit_par_ponctuation(texte):\n",
    "    ponctuations = \".!?,:\"  \n",
    "    if texte != \"\" and texte[-1] in ponctuations:\n",
    "        return True\n",
    "    else:\n",
    "        return False\n",
    "\n",
    "print(finit_par_ponctuation(\"Bonjour!\"))  \n"
   ]
  },
  {
   "cell_type": "code",
   "execution_count": null,
   "id": "c1a7a9bb-6b59-4bc0-b204-610b09fdc06f",
   "metadata": {
    "id": "bea983a3"
   },
   "outputs": [],
   "source": [
    "### Exercise 21:\n",
    "Write a Python program that prints \"Yes\" if the number is between 1 and 100, otherwise it prints \"No.\""
   ]
  },
  {
   "cell_type": "code",
   "execution_count": 51,
   "id": "63cfa638-3b37-45c8-b649-e49572fcb9da",
   "metadata": {
    "id": "bea983a3"
   },
   "outputs": [
    {
     "name": "stdin",
     "output_type": "stream",
     "text": [
      "Entrez un nombre :  8\n"
     ]
    },
    {
     "name": "stdout",
     "output_type": "stream",
     "text": [
      "Yes\n"
     ]
    }
   ],
   "source": [
    "# Exercise 21\n",
    "nombre = int(input(\"Entrez un nombre : \"))\n",
    "if 1 <= nombre <= 100:\n",
    "    print(\"Yes\")\n",
    "else:\n",
    "    print(\"No\")\n"
   ]
  },
  {
   "cell_type": "code",
   "execution_count": null,
   "id": "853a3495-94b4-4da3-ac08-1f4942023f2e",
   "metadata": {
    "id": "bea983a3"
   },
   "outputs": [],
   "source": [
    "### Exercise 22:\n",
    "Write a Python program that checks if two strings have the same length.\n",
    "\n",
    "```python"
   ]
  },
  {
   "cell_type": "code",
   "execution_count": 53,
   "id": "f7146f17-51d5-4887-9410-f9855acd136e",
   "metadata": {
    "id": "bea983a3"
   },
   "outputs": [
    {
     "name": "stdout",
     "output_type": "stream",
     "text": [
      "Les chaînes ont la même longueur\n"
     ]
    }
   ],
   "source": [
    "# Exercise 22\n",
    "s1 = \"hello\"\n",
    "s2 = \"world\"\n",
    "if len(s1) == len(s2):\n",
    "    print(\"Les chaînes ont la même longueur\")\n",
    "else:\n",
    "    print(\"Les chaînes n'ont pas la même longueur\")\n"
   ]
  },
  {
   "cell_type": "code",
   "execution_count": null,
   "id": "cb46c809-0425-4a8f-865d-d56b57ccac79",
   "metadata": {
    "id": "bea983a3"
   },
   "outputs": [],
   "source": [
    "### Exercise 23:\n",
    "Write a Python function that checks if a number is greater than its reverse.\n",
    "\n",
    "```python"
   ]
  },
  {
   "cell_type": "code",
   "execution_count": 55,
   "id": "b5aaf63c-eaf7-4858-9ddb-122e6e051206",
   "metadata": {
    "id": "bea983a3"
   },
   "outputs": [
    {
     "name": "stdout",
     "output_type": "stream",
     "text": [
      "False\n"
     ]
    }
   ],
   "source": [
    "# Exercise 23\n",
    "def plus_grand_que_inverse(n):\n",
    "    inverse = int(str(n)[::-1])\n",
    "    return n > inverse\n",
    "\n",
    "print(plus_grand_que_inverse(123)) \n"
   ]
  },
  {
   "cell_type": "code",
   "execution_count": null,
   "id": "18df02ca-27c8-4d1e-9dcc-208015d5bb17",
   "metadata": {
    "id": "bea983a3"
   },
   "outputs": [],
   "source": [
    "### Exercise 24:\n",
    "Write a Python program that checks if a password contains both letters and numbers.\n",
    "\n",
    "```python"
   ]
  },
  {
   "cell_type": "code",
   "execution_count": null,
   "id": "84cd5f31-4e29-4532-8b40-fed1ce8c8f49",
   "metadata": {
    "id": "bea983a3"
   },
   "outputs": [],
   "source": [
    "### Exercise 25:\n",
    "Write a Python program that checks if a number is between two given numbers.\n",
    "\n",
    "```python"
   ]
  },
  {
   "cell_type": "code",
   "execution_count": 61,
   "id": "6225a976-38af-47bd-b612-7fa7f269af41",
   "metadata": {
    "id": "bea983a3"
   },
   "outputs": [
    {
     "name": "stdout",
     "output_type": "stream",
     "text": [
      "Le nombre est entre 10 et 20\n"
     ]
    }
   ],
   "source": [
    "# Exercise 25\n",
    "nombre = 15\n",
    "min_val = 10\n",
    "max_val = 20\n",
    "\n",
    "if min_val <= nombre <= max_val:\n",
    "    print(\"Le nombre est entre\", min_val, \"et\", max_val)\n",
    "else:\n",
    "    print(\"Le nombre n'est pas dans l'intervalle\")\n"
   ]
  },
  {
   "cell_type": "code",
   "execution_count": null,
   "id": "00a33ceb-3f41-47b0-87fb-b25486597dad",
   "metadata": {
    "id": "bea983a3"
   },
   "outputs": [],
   "source": [
    "### Exercise 26:\n",
    "Write a Python function that checks if all characters in a string are unique.\n",
    "\n",
    "```python"
   ]
  },
  {
   "cell_type": "code",
   "execution_count": 63,
   "id": "1d8a97c3-8f5b-4b2a-968e-47334f75ad0a",
   "metadata": {
    "id": "bea983a3"
   },
   "outputs": [
    {
     "name": "stdout",
     "output_type": "stream",
     "text": [
      "False\n"
     ]
    }
   ],
   "source": [
    "# Exercise 26\n",
    "def caracteres_uniques(s):\n",
    "    for c in s:\n",
    "        if s.count(c) > 1:\n",
    "            return False\n",
    "    return True\n",
    "\n",
    "print(caracteres_uniques(\"aabc\")) \n"
   ]
  },
  {
   "cell_type": "code",
   "execution_count": null,
   "id": "31023b85-5b23-400c-a158-dd84207ee8f8",
   "metadata": {
    "id": "bea983a3"
   },
   "outputs": [],
   "source": [
    "### Exercise 27:\n",
    "Write a Python program that checks if a number is a perfect square.\n",
    "\n",
    "```python"
   ]
  },
  {
   "cell_type": "code",
   "execution_count": 65,
   "id": "df5a1d5d-3ead-4ec2-9365-4a578f77ba86",
   "metadata": {
    "id": "bea983a3"
   },
   "outputs": [
    {
     "name": "stdout",
     "output_type": "stream",
     "text": [
      "16 est un carré parfait\n"
     ]
    }
   ],
   "source": [
    "# Exercise 27\n",
    "import math\n",
    "nombre = 16\n",
    "racine = int(math.sqrt(nombre))\n",
    "\n",
    "if racine * racine == nombre:\n",
    "    print(nombre, \"est un carré parfait\")\n",
    "else:\n",
    "    print(nombre, \"n'est pas un carré parfait\")\n"
   ]
  },
  {
   "cell_type": "code",
   "execution_count": null,
   "id": "2e7cc3c7-af5a-4260-b2ca-0a46ffbf5766",
   "metadata": {
    "id": "bea983a3"
   },
   "outputs": [],
   "source": [
    "### Exercise 28:\n",
    "Write a Python function that checks if a word is a palindrome.\n",
    "\n",
    "```python"
   ]
  },
  {
   "cell_type": "code",
   "execution_count": 67,
   "id": "7fb9f164-f6d9-44e2-abfc-fd9e77f3ef1f",
   "metadata": {
    "id": "bea983a3"
   },
   "outputs": [
    {
     "name": "stdout",
     "output_type": "stream",
     "text": [
      "False\n"
     ]
    }
   ],
   "source": [
    "# Exercise 28\n",
    "def est_palindrome(mot):\n",
    "    return mot == mot[::-1]\n",
    "\n",
    "print(est_palindrome(\"python\")) \n"
   ]
  },
  {
   "cell_type": "code",
   "execution_count": null,
   "id": "143c271b-1e0a-4452-901c-b555d7e27085",
   "metadata": {
    "id": "bea983a3"
   },
   "outputs": [],
   "source": [
    "### Exercise 29:\n",
    "Write a Python program that prints \"Fizz\" if a number is divisible by 3, \"Buzz\" if it is divisible by 5, and \"FizzBuzz\" if divisible by both.\n",
    "\n",
    "```python"
   ]
  },
  {
   "cell_type": "code",
   "execution_count": 69,
   "id": "ca1624fc-b11c-46a6-8185-f5c56a4fcf46",
   "metadata": {
    "id": "bea983a3"
   },
   "outputs": [
    {
     "name": "stdin",
     "output_type": "stream",
     "text": [
      "Entrez un nombre :  9\n"
     ]
    },
    {
     "name": "stdout",
     "output_type": "stream",
     "text": [
      "Fizz\n"
     ]
    }
   ],
   "source": [
    "# Exercise 29\n",
    "nombre = int(input(\"Entrez un nombre : \"))\n",
    "\n",
    "if nombre % 3 == 0 and nombre % 5 == 0:\n",
    "    print(\"FizzBuzz\")\n",
    "elif nombre % 3 == 0:\n",
    "    print(\"Fizz\")\n",
    "elif nombre % 5 == 0:\n",
    "    print(\"Buzz\")\n",
    "else:\n",
    "    print(nombre)\n"
   ]
  },
  {
   "cell_type": "code",
   "execution_count": null,
   "id": "2546ec9d-f570-425e-a554-3cc2fccc26cd",
   "metadata": {
    "id": "bea983a3"
   },
   "outputs": [],
   "source": [
    "### Exercise 30:\n",
    "Write a Python program that checks if the sum of the digits of a number is even.\n",
    "\n",
    "```python"
   ]
  },
  {
   "cell_type": "code",
   "execution_count": 71,
   "id": "5a0619da-2c60-46fb-a3d7-cd79ee7f1fab",
   "metadata": {
    "id": "bea983a3"
   },
   "outputs": [
    {
     "name": "stdout",
     "output_type": "stream",
     "text": [
      "La somme est paire\n"
     ]
    }
   ],
   "source": [
    "# Exercise 30\n",
    "nombre = 1234\n",
    "somme = 0\n",
    "for c in str(nombre):\n",
    "    somme += int(c)\n",
    "if somme % 2 == 0:\n",
    "    print(\"La somme est paire\")\n",
    "else:\n",
    "    print(\"La somme est impaire\")\n"
   ]
  },
  {
   "cell_type": "code",
   "execution_count": null,
   "id": "3dfd98de-e3c8-4c70-a26a-387767f33a32",
   "metadata": {
    "id": "bea983a3"
   },
   "outputs": [],
   "source": [
    "### Exercise 31:\n",
    "Write a Python program that checks if a string is a valid email address.\n",
    "\n",
    "```python"
   ]
  },
  {
   "cell_type": "code",
   "execution_count": 73,
   "id": "d35f0832-58a2-4571-a747-76da52400840",
   "metadata": {
    "id": "bea983a3"
   },
   "outputs": [
    {
     "name": "stdin",
     "output_type": "stream",
     "text": [
      "Entrez un email :  wade.ndeye@aims.org\n"
     ]
    },
    {
     "name": "stdout",
     "output_type": "stream",
     "text": [
      "Email valide\n"
     ]
    }
   ],
   "source": [
    "# Exercise 31\n",
    "email = input(\"Entrez un email : \")\n",
    "\n",
    "if \"@\" in email and \".\" in email:\n",
    "    print(\"Email valide\")\n",
    "else:\n",
    "    print(\"Email invalide\")\n"
   ]
  },
  {
   "cell_type": "code",
   "execution_count": null,
   "id": "49cca5a1-077f-4c6e-bc24-07d19a3bdb6e",
   "metadata": {
    "id": "bea983a3"
   },
   "outputs": [],
   "source": [
    "### Exercise 32:\n",
    "Write a Python function that checks if a number is within 10 of 100 or 200.\n",
    "\n",
    "```python"
   ]
  },
  {
   "cell_type": "code",
   "execution_count": 75,
   "id": "25cd3991-0a56-4484-b3a8-7aac413997b5",
   "metadata": {
    "id": "bea983a3"
   },
   "outputs": [
    {
     "name": "stdout",
     "output_type": "stream",
     "text": [
      "False\n"
     ]
    }
   ],
   "source": [
    "# Exercise 32\n",
    "def proche_de_100_ou_200(n):\n",
    "    return abs(n - 100) <= 10 or abs(n - 200) <= 10\n",
    "\n",
    "print(proche_de_100_ou_200(50))   \n"
   ]
  },
  {
   "cell_type": "code",
   "execution_count": null,
   "id": "0c4f7c59-e7d6-4499-a05a-cbe28b62a407",
   "metadata": {
    "id": "bea983a3"
   },
   "outputs": [],
   "source": [
    "### Exercise 33:\n",
    "Write a Python program that checks if a given string is a valid URL.\n",
    "\n",
    "```python"
   ]
  },
  {
   "cell_type": "code",
   "execution_count": null,
   "id": "24fceb74-fb01-43bd-b01f-8bf9574c6578",
   "metadata": {
    "id": "bea983a3"
   },
   "outputs": [],
   "source": [
    "# Exercise 33\n",
    "url = input(\"Entrez une URL : \")\n",
    "if url.startswith(\"http://\") or url.startswith(\"https://\"):\n",
    "    print(\"URL valide\")\n",
    "else:\n",
    "    print(\"URL invalide\")\n"
   ]
  },
  {
   "cell_type": "code",
   "execution_count": null,
   "id": "dcdbfa83-46b7-4a1b-8471-f04311e57a35",
   "metadata": {
    "id": "bea983a3"
   },
   "outputs": [],
   "source": [
    "### Exercise 34:\n",
    "Write a Python program that checks if a list contains all even numbers.\n",
    "\n",
    "```python"
   ]
  },
  {
   "cell_type": "code",
   "execution_count": 77,
   "id": "c05a1496-11ce-46c3-868c-bf63a0d02b9e",
   "metadata": {
    "id": "bea983a3"
   },
   "outputs": [
    {
     "name": "stdout",
     "output_type": "stream",
     "text": [
      "True\n"
     ]
    }
   ],
   "source": [
    "# Exercise 34\n",
    "liste = [2, 4, 6, 8]\n",
    "tous_pairs = True\n",
    "\n",
    "for n in liste:\n",
    "    if n % 2 != 0:\n",
    "        tous_pairs = False\n",
    "        break\n",
    "print(tous_pairs)\n"
   ]
  },
  {
   "cell_type": "code",
   "execution_count": null,
   "id": "4d29d32a-99c0-4804-a917-87691bf565a2",
   "metadata": {
    "id": "bea983a3"
   },
   "outputs": [],
   "source": [
    "### Exercise 35:\n",
    "Write a Python program that checks if a word is longer than a given length.\n",
    "\n",
    "```python"
   ]
  },
  {
   "cell_type": "code",
   "execution_count": 79,
   "id": "bd31c780-eedd-42a1-a509-7bf8406b6430",
   "metadata": {
    "id": "bea983a3"
   },
   "outputs": [
    {
     "name": "stdout",
     "output_type": "stream",
     "text": [
      "Le mot est plus long que 5\n"
     ]
    }
   ],
   "source": [
    "# Exercise 35\n",
    "mot = \"Python\"\n",
    "longueur = 5\n",
    "\n",
    "if len(mot) > longueur:\n",
    "    print(\"Le mot est plus long que\", longueur)\n",
    "else:\n",
    "    print(\"Le mot n'est pas plus long que\", longueur)\n"
   ]
  },
  {
   "cell_type": "code",
   "execution_count": null,
   "id": "5a767be5-8863-4acb-a711-e6db24b33604",
   "metadata": {
    "id": "bea983a3"
   },
   "outputs": [],
   "source": [
    "### Exercise 36:\n",
    "Write a Python program that checks if a list contains only positive numbers.\n",
    "\n",
    "```python"
   ]
  },
  {
   "cell_type": "code",
   "execution_count": 81,
   "id": "a0e7db3c-22c9-4263-8468-a4bafcfb96e3",
   "metadata": {
    "id": "bea983a3"
   },
   "outputs": [
    {
     "name": "stdout",
     "output_type": "stream",
     "text": [
      "True\n"
     ]
    }
   ],
   "source": [
    "# Exercise 36\n",
    "liste = [1, 2, 3, 4]\n",
    "tous_positifs = True\n",
    "\n",
    "for n in liste:\n",
    "    if n <= 0:\n",
    "        tous_positifs = False\n",
    "        break\n",
    "\n",
    "print(tous_positifs)\n"
   ]
  },
  {
   "cell_type": "code",
   "execution_count": null,
   "id": "9932b2f9-893a-4b91-a778-4fff1fa2c552",
   "metadata": {
    "id": "bea983a3"
   },
   "outputs": [],
   "source": [
    "### Exercise 37:\n",
    "Write a Python function that checks if a year is a century year (i.e., divisible by 100).\n",
    "\n",
    "```python"
   ]
  },
  {
   "cell_type": "code",
   "execution_count": 83,
   "id": "27f6066c-6cf3-4ef2-9b20-a38f43d93b8f",
   "metadata": {
    "id": "bea983a3"
   },
   "outputs": [
    {
     "name": "stdout",
     "output_type": "stream",
     "text": [
      "False\n"
     ]
    }
   ],
   "source": [
    "# Exercise 37\n",
    "def est_siecle(annee):\n",
    "    return annee % 100 == 0\n",
    "\n",
    "print(est_siecle(2023))  # False\n"
   ]
  },
  {
   "cell_type": "code",
   "execution_count": null,
   "id": "39bf0a6f-607f-414e-801c-07beb46beefa",
   "metadata": {
    "id": "bea983a3"
   },
   "outputs": [],
   "source": [
    "### Exercise 38:\n",
    "Write a Python program that checks if the sum of a list of numbers is greater than 100.\n",
    "\n",
    "```python"
   ]
  },
  {
   "cell_type": "code",
   "execution_count": 85,
   "id": "c6137f93-db59-46ad-a48b-921962e6d2f2",
   "metadata": {
    "id": "bea983a3"
   },
   "outputs": [
    {
     "name": "stdout",
     "output_type": "stream",
     "text": [
      "La somme est supérieure à 100\n"
     ]
    }
   ],
   "source": [
    "# Exercise 38\n",
    "liste = [30, 40, 50]\n",
    "somme = 0\n",
    "for n in liste:\n",
    "    somme += n\n",
    "if somme > 100:\n",
    "    print(\"La somme est supérieure à 100\")\n",
    "else:\n",
    "    print(\"La somme est inférieure ou égale à 100\")\n"
   ]
  },
  {
   "cell_type": "code",
   "execution_count": null,
   "id": "316dd75f-e778-4763-8bc0-72aac36652d0",
   "metadata": {
    "id": "bea983a3"
   },
   "outputs": [],
   "source": [
    "### Exercise 39:\n",
    "Write a Python function that checks if a given word is a substring of another string.\n",
    "\n",
    "```python"
   ]
  },
  {
   "cell_type": "code",
   "execution_count": 87,
   "id": "109712b0-3671-4274-a73d-4633d705dbff",
   "metadata": {
    "id": "bea983a3"
   },
   "outputs": [
    {
     "name": "stdout",
     "output_type": "stream",
     "text": [
      "True\n"
     ]
    }
   ],
   "source": [
    "# Exercise 39\n",
    "def est_sous_chaine(mot, texte):\n",
    "    return mot in texte\n",
    "\n",
    "print(est_sous_chaine(\"chat\", \"le chat est mignon\"))  \n"
   ]
  },
  {
   "cell_type": "code",
   "execution_count": null,
   "id": "c9fbbebc-7ac4-4881-9907-8d1f392ba1f3",
   "metadata": {
    "id": "bea983a3"
   },
   "outputs": [],
   "source": [
    "### Exercise 40:\n",
    "Write a Python program that checks if a number is a power of 2.\n",
    "\n",
    "```python"
   ]
  },
  {
   "cell_type": "code",
   "execution_count": 89,
   "id": "a4d9e64a-e23e-45c0-a174-97231de10630",
   "metadata": {
    "id": "bea983a3"
   },
   "outputs": [
    {
     "name": "stdout",
     "output_type": "stream",
     "text": [
      "False\n"
     ]
    }
   ],
   "source": [
    "# Exercise 40\n",
    "def est_puissance_de_2(n):\n",
    "    return n > 0 and (n & (n - 1)) == 0\n",
    "\n",
    "\n",
    "print(est_puissance_de_2(18)) \n"
   ]
  },
  {
   "cell_type": "code",
   "execution_count": null,
   "id": "8d6ab151-14e4-4e5b-b51e-c630d5654099",
   "metadata": {
    "id": "bea983a3"
   },
   "outputs": [],
   "source": [
    "### Exercise 41:\n",
    "Write a Python function that checks if a string contains no spaces.\n",
    "\n",
    "```python"
   ]
  },
  {
   "cell_type": "code",
   "execution_count": 91,
   "id": "c209516a-256f-4ece-b4da-a777dfeda66a",
   "metadata": {
    "id": "bea983a3"
   },
   "outputs": [
    {
     "name": "stdout",
     "output_type": "stream",
     "text": [
      "True\n"
     ]
    }
   ],
   "source": [
    "# Exercise 41\n",
    "def sans_espaces(texte):\n",
    "    return \" \" not in texte\n",
    "\n",
    "print(sans_espaces(\"Python\"))    \n",
    "\n"
   ]
  },
  {
   "cell_type": "code",
   "execution_count": null,
   "id": "c650f719-63cf-4e68-8b64-60d4e244c1ed",
   "metadata": {
    "id": "bea983a3"
   },
   "outputs": [],
   "source": [
    "### Exercise 42:\n",
    "Write a Python program that prints \"Yes\" if a number is divisible by both 2 and 3, otherwise it prints \"No.\"\n",
    "\n",
    "```python"
   ]
  },
  {
   "cell_type": "code",
   "execution_count": 95,
   "id": "d024a5c5-cddf-41ff-afd5-1ee76e68773c",
   "metadata": {
    "id": "bea983a3"
   },
   "outputs": [
    {
     "name": "stdout",
     "output_type": "stream",
     "text": [
      "Yes\n"
     ]
    }
   ],
   "source": [
    "# Exercise 42\n",
    "nombre = 12\n",
    "if nombre % 2 == 0 and nombre % 3 == 0:\n",
    "    print(\"Yes\")\n",
    "else:\n",
    "    print(\"No\")\n"
   ]
  },
  {
   "cell_type": "code",
   "execution_count": null,
   "id": "e40f9e1b-44e5-4403-97fa-2ef305135d6e",
   "metadata": {
    "id": "bea983a3"
   },
   "outputs": [],
   "source": [
    "### Exercise 43:\n",
    "Write a Python program that checks if a number is a palindrome.\n",
    "\n",
    "```python"
   ]
  },
  {
   "cell_type": "code",
   "execution_count": 97,
   "id": "647ca50a-3bf0-4957-bfae-030253b05b35",
   "metadata": {
    "id": "bea983a3"
   },
   "outputs": [
    {
     "name": "stdout",
     "output_type": "stream",
     "text": [
      "Palindrome\n"
     ]
    }
   ],
   "source": [
    "# Exercise 43\n",
    "nombre = 121\n",
    "if str(nombre) == str(nombre)[::-1]:\n",
    "    print(\"Palindrome\")\n",
    "else:\n",
    "    print(\"Not palindrome\")\n"
   ]
  },
  {
   "cell_type": "code",
   "execution_count": null,
   "id": "3c57f99a-ab0d-4509-9e17-42f593de413f",
   "metadata": {
    "id": "bea983a3"
   },
   "outputs": [],
   "source": [
    "### Exercise 44:\n",
    "Write a Python function that checks if a string is made of only lowercase letters.\n",
    "\n",
    "```python"
   ]
  },
  {
   "cell_type": "code",
   "execution_count": 99,
   "id": "46e17d3d-e558-4a7c-b7e7-582520e98b56",
   "metadata": {
    "id": "bea983a3"
   },
   "outputs": [
    {
     "name": "stdout",
     "output_type": "stream",
     "text": [
      "True\n"
     ]
    }
   ],
   "source": [
    "# Exercise 44\n",
    "def est_minuscules(texte):\n",
    "    return texte.islower()\n",
    "\n",
    "print(est_minuscules(\"hello\"))  \n",
    "\n"
   ]
  },
  {
   "cell_type": "code",
   "execution_count": null,
   "id": "9aef9932-46c0-475d-8084-de5b353f984f",
   "metadata": {
    "id": "bea983a3"
   },
   "outputs": [],
   "source": [
    "---\n",
    "\n",
    "### Exercise 45:\n",
    "Write a Python program that checks if a string starts with a specific prefix.\n",
    "\n",
    "```python"
   ]
  },
  {
   "cell_type": "code",
   "execution_count": 101,
   "id": "860b3223-710b-4beb-8f1b-b7aea108254e",
   "metadata": {
    "id": "bea983a3"
   },
   "outputs": [
    {
     "name": "stdout",
     "output_type": "stream",
     "text": [
      "Oui\n"
     ]
    }
   ],
   "source": [
    "texte = \"Python est fun\"\n",
    "prefixe = \"Python\"\n",
    "if texte.startswith(prefixe):\n",
    "    print(\"Oui\")\n",
    "else:\n",
    "    print(\"Non\")\n"
   ]
  },
  {
   "cell_type": "code",
   "execution_count": null,
   "id": "175df99e-c283-40fc-9e12-9e4a213f57af",
   "metadata": {
    "id": "bea983a3"
   },
   "outputs": [],
   "source": [
    "---\n",
    "\n",
    "### Exercise 46:\n",
    "Write a Python function that checks if a number is divisible by any number in a given list.\n",
    "\n",
    "```python"
   ]
  },
  {
   "cell_type": "code",
   "execution_count": 103,
   "id": "932ac5a1-493f-4fdb-862f-819857af05a5",
   "metadata": {
    "id": "bea983a3"
   },
   "outputs": [
    {
     "name": "stdout",
     "output_type": "stream",
     "text": [
      "False\n"
     ]
    }
   ],
   "source": [
    "# Exercise 46\n",
    "def divisible_par_liste(n, liste):\n",
    "    for x in liste:\n",
    "        if n % x == 0:\n",
    "            return True\n",
    "    return False\n",
    "\n",
    "print(divisible_par_liste(7, [2, 3, 5]))   \n"
   ]
  },
  {
   "cell_type": "code",
   "execution_count": null,
   "id": "3e80d3a5-7e60-4b4c-8ff3-862497845aa1",
   "metadata": {
    "id": "bea983a3"
   },
   "outputs": [],
   "source": [
    "### Exercise 47:\n",
    "Write a Python program that prints \"Yes\" if a string has more than one occurrence of the same letter.\n",
    "\n",
    "```python"
   ]
  },
  {
   "cell_type": "code",
   "execution_count": 105,
   "id": "2334672a-c5db-4b5a-ba77-5f78c3eba046",
   "metadata": {
    "id": "bea983a3"
   },
   "outputs": [
    {
     "name": "stdout",
     "output_type": "stream",
     "text": [
      "Yes\n"
     ]
    }
   ],
   "source": [
    "# Exercise 47\n",
    "texte = \"hello\"\n",
    "double = False\n",
    "\n",
    "for c in texte:\n",
    "    if texte.count(c) > 1:\n",
    "        double = True\n",
    "        break\n",
    "\n",
    "print(\"Yes\" if double else \"No\")\n"
   ]
  },
  {
   "cell_type": "code",
   "execution_count": null,
   "id": "6e4ef042-97cd-489c-b51a-761e0d673bb0",
   "metadata": {
    "id": "bea983a3"
   },
   "outputs": [],
   "source": [
    "### Exercise 48:\n",
    "Write a Python function that checks if a number is prime by dividing it by numbers up to its square root.\n",
    "\n",
    "```python"
   ]
  },
  {
   "cell_type": "code",
   "execution_count": 107,
   "id": "04af7896-31e2-4823-87d3-12fc0539d1dd",
   "metadata": {
    "id": "bea983a3"
   },
   "outputs": [
    {
     "name": "stdout",
     "output_type": "stream",
     "text": [
      "True\n"
     ]
    }
   ],
   "source": [
    "# Exercise 48\n",
    "import math\n",
    "\n",
    "def est_premier(n):\n",
    "    if n <= 1:\n",
    "        return False\n",
    "    for i in range(2, int(math.sqrt(n)) + 1):\n",
    "        if n % i == 0:\n",
    "            return False\n",
    "    return True\n",
    "\n",
    "print(est_premier(17))  \n",
    "\n"
   ]
  },
  {
   "cell_type": "code",
   "execution_count": null,
   "id": "2dcc2214-35cd-4ea8-b4df-bba70aa61e2d",
   "metadata": {
    "id": "bea983a3"
   },
   "outputs": [],
   "source": [
    "### Exercise 49:\n",
    "Write a Python program that checks if a number is within 1 of a multiple of 10.\n",
    "\n",
    "```python"
   ]
  },
  {
   "cell_type": "code",
   "execution_count": 111,
   "id": "c673fa7c-e5ba-42b8-a965-485342580db0",
   "metadata": {
    "id": "bea983a3"
   },
   "outputs": [
    {
     "name": "stdout",
     "output_type": "stream",
     "text": [
      "Yes\n"
     ]
    }
   ],
   "source": [
    "# Exercise 49\n",
    "nombre = 21\n",
    "\n",
    "if abs(nombre % 10) == 1 or abs(nombre % 10 - 10) == 1:\n",
    "    print(\"Yes\")\n",
    "else:\n",
    "    print(\"No\")\n"
   ]
  },
  {
   "cell_type": "code",
   "execution_count": null,
   "id": "bad98567-d701-4e4e-b3d3-0a4835bd23e1",
   "metadata": {
    "id": "bea983a3"
   },
   "outputs": [],
   "source": [
    "### Exercise 50:\n",
    "Write a Python program that prints \"In range\" if a number is between 10 and 20 (inclusive), otherwise it prints \"Out of range.\"\n",
    "\n",
    "```python"
   ]
  },
  {
   "cell_type": "code",
   "execution_count": 109,
   "id": "baa1c6fa-d6a7-4576-9aaf-d622d37c9391",
   "metadata": {
    "id": "bea983a3"
   },
   "outputs": [
    {
     "name": "stdout",
     "output_type": "stream",
     "text": [
      "In range\n"
     ]
    }
   ],
   "source": [
    "# Exercise 50\n",
    "nombre = 15\n",
    "\n",
    "if 10 <= nombre <= 20:\n",
    "    print(\"In range\")\n",
    "else:\n",
    "    print(\"Out of range\")\n"
   ]
  },
  {
   "cell_type": "code",
   "execution_count": null,
   "id": "ce5cc540-0c81-4361-b1e9-4a8dd710d89c",
   "metadata": {},
   "outputs": [],
   "source": []
  }
 ],
 "metadata": {
  "colab": {
   "provenance": []
  },
  "kernelspec": {
   "display_name": "Python [conda env:base] *",
   "language": "python",
   "name": "conda-base-py"
  },
  "language_info": {
   "codemirror_mode": {
    "name": "ipython",
    "version": 3
   },
   "file_extension": ".py",
   "mimetype": "text/x-python",
   "name": "python",
   "nbconvert_exporter": "python",
   "pygments_lexer": "ipython3",
   "version": "3.12.7"
  }
 },
 "nbformat": 4,
 "nbformat_minor": 5
}
