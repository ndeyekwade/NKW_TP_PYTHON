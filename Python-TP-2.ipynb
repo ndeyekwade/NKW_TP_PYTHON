{
 "cells": [
  {
   "cell_type": "markdown",
   "id": "d68c1dee",
   "metadata": {
    "id": "d68c1dee"
   },
   "source": [
    "# Practical_2: String and files"
   ]
  },
  {
   "cell_type": "code",
   "execution_count": null,
   "id": "4a0a74cd-9fdf-4c7c-8c6f-37aa8a435cb4",
   "metadata": {
    "id": "bea983a3"
   },
   "outputs": [],
   "source": [
    "### Exercise 1:\n",
    "Create a string variable `text` and assign it the value `\"Python is amazing!\"`."
   ]
  },
  {
   "cell_type": "code",
   "execution_count": 1,
   "id": "c0c647e4-e664-4b98-8d43-13f3e40e2a0f",
   "metadata": {
    "id": "bea983a3"
   },
   "outputs": [
    {
     "data": {
      "text/plain": [
       "'Python is amazing!'"
      ]
     },
     "execution_count": 1,
     "metadata": {},
     "output_type": "execute_result"
    }
   ],
   "source": [
    "# Exercise 1\n",
    "var = \"Python is amazing!\"\n",
    "var"
   ]
  },
  {
   "cell_type": "code",
   "execution_count": null,
   "id": "e37d6103-5d04-4af1-81cd-8d01cd77cdd4",
   "metadata": {
    "id": "bea983a3"
   },
   "outputs": [],
   "source": [
    "### Exercise 2:\n",
    "Find the length of the string `\"Hello, World!\"` and store it in a variable `length`."
   ]
  },
  {
   "cell_type": "code",
   "execution_count": 23,
   "id": "435e6913-041c-4f1c-a571-dbb986b3f10b",
   "metadata": {
    "id": "bea983a3"
   },
   "outputs": [
    {
     "name": "stdout",
     "output_type": "stream",
     "text": [
      "13\n"
     ]
    }
   ],
   "source": [
    "# Exercise 2\n",
    "text = \"hello, world!\"\n",
    "lenght = len(text)\n",
    "print(length)"
   ]
  },
  {
   "cell_type": "code",
   "execution_count": null,
   "id": "37faef56-b287-4913-a1ac-ecb52c4d1c4e",
   "metadata": {
    "id": "bea983a3"
   },
   "outputs": [],
   "source": [
    "### Exercise 3:\n",
    "Convert the string `\"python programming\"` to uppercase and store it in a variable `upper_text`."
   ]
  },
  {
   "cell_type": "code",
   "execution_count": 37,
   "id": "feb3638f-44c4-4f08-b93c-c02eb9733b03",
   "metadata": {
    "id": "bea983a3"
   },
   "outputs": [
    {
     "data": {
      "text/plain": [
       "'PYTHON PROGRAMMING'"
      ]
     },
     "execution_count": 37,
     "metadata": {},
     "output_type": "execute_result"
    }
   ],
   "source": [
    "# Exercise 3\n",
    "text = \"python programming\"\n",
    "upper_text = text.upper()\n",
    "upper_text"
   ]
  },
  {
   "cell_type": "code",
   "execution_count": null,
   "id": "892a7e64-bad1-4c61-a4e3-ba1ff645cc6c",
   "metadata": {
    "id": "bea983a3"
   },
   "outputs": [],
   "source": [
    "### Exercise 4:\n",
    "Extract the first 5 characters from the string `\"Artificial Intelligence\"`."
   ]
  },
  {
   "cell_type": "code",
   "execution_count": 39,
   "id": "8779d984-7fe3-4db5-89c5-06805fc5488b",
   "metadata": {
    "id": "bea983a3"
   },
   "outputs": [
    {
     "name": "stdout",
     "output_type": "stream",
     "text": [
      "Artif\n"
     ]
    }
   ],
   "source": [
    "# Exercise 4\n",
    "text = \"Artificial Intelligence\"\n",
    "first_five = text[:5]\n",
    "print(first_five)\n"
   ]
  },
  {
   "cell_type": "code",
   "execution_count": null,
   "id": "94357884-c030-46da-8ca2-1fb8bb7046b9",
   "metadata": {
    "id": "bea983a3"
   },
   "outputs": [],
   "source": [
    "### Exercise 5:\n",
    "Concatenate the strings `\"Hello\"` and `\"World\"` with a space in between."
   ]
  },
  {
   "cell_type": "code",
   "execution_count": 41,
   "id": "257a80d9-400d-4cf9-b9b2-5ca495fa3903",
   "metadata": {
    "id": "bea983a3"
   },
   "outputs": [
    {
     "data": {
      "text/plain": [
       "'Hello World'"
      ]
     },
     "execution_count": 41,
     "metadata": {},
     "output_type": "execute_result"
    }
   ],
   "source": [
    "# Exercise 5\n",
    "string_value = \"Hello\" + \" \" + \"World\"\n",
    "string_value"
   ]
  },
  {
   "cell_type": "code",
   "execution_count": null,
   "id": "8b8a7ba3-cf6e-4b7e-8748-94f8ed181383",
   "metadata": {
    "id": "bea983a3"
   },
   "outputs": [],
   "source": [
    "### Exercise 6:\n",
    "Replace the word `\"dog\"` with `\"cat\"` in the string `\"The quick brown dog jumps over the lazy dog.\"`."
   ]
  },
  {
   "cell_type": "code",
   "execution_count": 45,
   "id": "3e74a546-e3f2-4bf3-8b91-706bb267d2f6",
   "metadata": {
    "id": "bea983a3"
   },
   "outputs": [
    {
     "data": {
      "text/plain": [
       "'The quick brown cat jumps over the lazy cat.'"
      ]
     },
     "execution_count": 45,
     "metadata": {},
     "output_type": "execute_result"
    }
   ],
   "source": [
    "# Exercise 6\n",
    "string_value = \"The quick brown dog jumps over the lazy dog.\"\n",
    "new_string_value = string_value.replace(\"dog\" , \"cat\")\n",
    "new_string_value"
   ]
  },
  {
   "cell_type": "code",
   "execution_count": null,
   "id": "2005de5d-1b12-4ef1-819e-a39feea11f66",
   "metadata": {
    "id": "bea983a3"
   },
   "outputs": [],
   "source": [
    "### Exercise 7:\n",
    "Split the string `\"apple,banana,orange\"` by commas and store the result in a list `fruits_list`."
   ]
  },
  {
   "cell_type": "code",
   "execution_count": 53,
   "id": "9d232afb-205e-449d-b23c-9c970fa045da",
   "metadata": {
    "id": "bea983a3"
   },
   "outputs": [
    {
     "data": {
      "text/plain": [
       "['apple', 'banana', 'orange']"
      ]
     },
     "execution_count": 53,
     "metadata": {},
     "output_type": "execute_result"
    }
   ],
   "source": [
    "# Exercise 7\n",
    "string = \"apple,banana,orange\"\n",
    "new_string_value = string.split(\",\")\n",
    "new_string_value"
   ]
  },
  {
   "cell_type": "code",
   "execution_count": null,
   "id": "582a4e73-699e-4aef-81d8-cb409a96bfc8",
   "metadata": {
    "id": "bea983a3"
   },
   "outputs": [],
   "source": [
    "### Exercise 8:\n",
    "Use string formatting to create the sentence `\"My name is Alice and I am 25 years old.\"`, where the name and age are variables.\n"
   ]
  },
  {
   "cell_type": "code",
   "execution_count": 55,
   "id": "b71aaf35-69a5-4d64-a33f-ccd5e9cbb797",
   "metadata": {
    "id": "bea983a3"
   },
   "outputs": [
    {
     "name": "stdout",
     "output_type": "stream",
     "text": [
      "My name is Alice and I am 25 years old.\n"
     ]
    }
   ],
   "source": [
    "# Exercise 8\n",
    "name = \"Alice\"\n",
    "age = 25\n",
    "sentence = f\"My name is {name} and I am {age} years old.\"\n",
    "print(sentence)\n"
   ]
  },
  {
   "cell_type": "code",
   "execution_count": null,
   "id": "bc2102ca-9abd-43d1-b32d-578ee48c2433",
   "metadata": {
    "id": "bea983a3"
   },
   "outputs": [],
   "source": [
    "### Exercise 9:\n",
    "Check if the string `\"python\"` is present in the sentence `\"I love python programming\"`.\n"
   ]
  },
  {
   "cell_type": "code",
   "execution_count": 57,
   "id": "7645f39e-e171-45e3-84bf-b32510b8633a",
   "metadata": {
    "id": "bea983a3"
   },
   "outputs": [
    {
     "name": "stdout",
     "output_type": "stream",
     "text": [
      "True\n"
     ]
    }
   ],
   "source": [
    "# Exercise 9\n",
    "sentence = \"I love python programming\"\n",
    "word = \"python\"\n",
    "is_present = word in sentence\n",
    "print(is_present)\n"
   ]
  },
  {
   "cell_type": "code",
   "execution_count": null,
   "id": "9f221149-235b-487a-af2e-c53790f67882",
   "metadata": {
    "id": "bea983a3"
   },
   "outputs": [],
   "source": [
    "### Exercise 10:\n",
    "Count the number of occurrences of the letter `\"e\"` in the string `\"Elephant is an elegant animal\"`.\n"
   ]
  },
  {
   "cell_type": "code",
   "execution_count": 59,
   "id": "37c66242-e746-44c7-a865-c1ea83dea343",
   "metadata": {
    "id": "bea983a3"
   },
   "outputs": [
    {
     "name": "stdout",
     "output_type": "stream",
     "text": [
      "3\n"
     ]
    }
   ],
   "source": [
    "# Exercise 10\n",
    "text = \"Elephant is an elegant animal\"\n",
    "count_e = text.count(\"e\")\n",
    "print(count_e)"
   ]
  },
  {
   "cell_type": "code",
   "execution_count": null,
   "id": "ccce42dd-1f24-43e3-bfae-9b7296002a8e",
   "metadata": {
    "id": "bea983a3"
   },
   "outputs": [],
   "source": [
    "### Exercise 11:\n",
    "Remove any leading and trailing spaces from the string `\"   Data Science   \"`.\n"
   ]
  },
  {
   "cell_type": "code",
   "execution_count": 61,
   "id": "d2f7839f-6b86-4d8e-906d-34d76ee265a1",
   "metadata": {
    "id": "bea983a3"
   },
   "outputs": [
    {
     "name": "stdout",
     "output_type": "stream",
     "text": [
      "Data Science\n"
     ]
    }
   ],
   "source": [
    "# Exercise 11\n",
    "text = \"   Data Science   \"\n",
    "clean_text = text.strip()\n",
    "print(clean_text)"
   ]
  },
  {
   "cell_type": "code",
   "execution_count": null,
   "id": "2b75b7b6-8d67-4ae3-b07e-ffdf15b42ea5",
   "metadata": {
    "id": "bea983a3"
   },
   "outputs": [],
   "source": [
    "### Exercise 12:\n",
    "Convert the string `\"100\"` into an integer and store it in a variable `int_value`.\n"
   ]
  },
  {
   "cell_type": "code",
   "execution_count": 63,
   "id": "b0d5ef35-60f8-4857-8acb-80d8ac280beb",
   "metadata": {
    "id": "bea983a3"
   },
   "outputs": [
    {
     "data": {
      "text/plain": [
       "100"
      ]
     },
     "execution_count": 63,
     "metadata": {},
     "output_type": "execute_result"
    }
   ],
   "source": [
    "# Exercise 12\n",
    "int_value = int(\"100\")\n",
    "int_value"
   ]
  },
  {
   "cell_type": "code",
   "execution_count": null,
   "id": "d6086aaf-f450-43ef-9476-af70b36b67bd",
   "metadata": {
    "id": "bea983a3"
   },
   "outputs": [],
   "source": [
    "### Exercise 13:\n",
    "Extract the substring `\"pro\"` from the string `\"programming\"`.\n"
   ]
  },
  {
   "cell_type": "code",
   "execution_count": 73,
   "id": "5b657670-1a47-4fe7-8b26-8a50e170dd68",
   "metadata": {
    "id": "bea983a3"
   },
   "outputs": [
    {
     "data": {
      "text/plain": [
       "'pro'"
      ]
     },
     "execution_count": 73,
     "metadata": {},
     "output_type": "execute_result"
    }
   ],
   "source": [
    "# Exercise 13\n",
    "A = \"programming\"\n",
    "B = A[:3]\n",
    "B"
   ]
  },
  {
   "cell_type": "code",
   "execution_count": null,
   "id": "149851b0-b5be-4d25-b64b-98ccb46de549",
   "metadata": {
    "id": "bea983a3"
   },
   "outputs": [],
   "source": [
    "### Exercise 14:\n",
    "Check if the string `\"data\"` starts with `\"da\"` and ends with `\"ta\"`.\n"
   ]
  },
  {
   "cell_type": "code",
   "execution_count": 75,
   "id": "00d97fc9-33ca-43d5-9e54-d05f4612247e",
   "metadata": {
    "id": "bea983a3"
   },
   "outputs": [
    {
     "name": "stdout",
     "output_type": "stream",
     "text": [
      "Starts with 'da'? True\n",
      "Ends with 'ta'? True\n"
     ]
    }
   ],
   "source": [
    "# Exercise 14\n",
    "text = \"data\"\n",
    "starts_with_da = text.startswith(\"da\")\n",
    "ends_with_ta = text.endswith(\"ta\")\n",
    "print(\"Starts with 'da'?\", starts_with_da)\n",
    "print(\"Ends with 'ta'?\", ends_with_ta)\n"
   ]
  },
  {
   "cell_type": "code",
   "execution_count": null,
   "id": "313f005f-3847-4f9d-a970-84c4c77e33f4",
   "metadata": {
    "id": "bea983a3"
   },
   "outputs": [],
   "source": [
    "### Exercise 15:\n",
    "Reverse the string `\"machine learning\"` and store the result in `reversed_text`.\n"
   ]
  },
  {
   "cell_type": "code",
   "execution_count": 79,
   "id": "8a030151-552f-4d1b-b898-3283b0261b7f",
   "metadata": {
    "id": "bea983a3"
   },
   "outputs": [
    {
     "data": {
      "text/plain": [
       "'gninrael enihcam'"
      ]
     },
     "execution_count": 79,
     "metadata": {},
     "output_type": "execute_result"
    }
   ],
   "source": [
    "# Exercise 15\n",
    "text = \"machine learning\"\n",
    "reversed_text = text[::-1]\n",
    "reversed_text"
   ]
  },
  {
   "cell_type": "code",
   "execution_count": null,
   "id": "d128380c-6cc3-4c96-a16e-e516c5d0311e",
   "metadata": {
    "id": "bea983a3"
   },
   "outputs": [],
   "source": [
    "### Exercise 16:\n",
    "Convert the first letter of each word in the string `\"machine learning is fun\"` to uppercase.\n"
   ]
  },
  {
   "cell_type": "code",
   "execution_count": 81,
   "id": "259c5b58-9084-4df6-83c4-6bd3cba98f65",
   "metadata": {
    "id": "bea983a3"
   },
   "outputs": [
    {
     "name": "stdout",
     "output_type": "stream",
     "text": [
      "Machine Learning Is Fun\n"
     ]
    }
   ],
   "source": [
    "# Exercise 16\n",
    "text = \"machine learning is fun\"\n",
    "capitalized_text = text.title()\n",
    "print(capitalized_text)"
   ]
  },
  {
   "cell_type": "code",
   "execution_count": null,
   "id": "c330d87e-8e74-4f70-a9f6-40de035e7023",
   "metadata": {
    "id": "bea983a3"
   },
   "outputs": [],
   "source": [
    "### Exercise 17:\n",
    "Create a multiline string representing a poem and store it in a variable `poem`.\n"
   ]
  },
  {
   "cell_type": "code",
   "execution_count": 91,
   "id": "260d0fd8-1d53-40c7-8e24-a6016a3bc05e",
   "metadata": {
    "id": "bea983a3"
   },
   "outputs": [
    {
     "name": "stdout",
     "output_type": "stream",
     "text": [
      "Roses are red,\n",
      "Violets are blue,\n",
      "Python is fun,\n",
      "And so are you.\n"
     ]
    }
   ],
   "source": [
    "# Exercise 17\n",
    "poem = \"\"\"Roses are red,\n",
    "Violets are blue,\n",
    "Python is fun,\n",
    "And so are you.\"\"\"\n",
    "print(poem)\n"
   ]
  },
  {
   "cell_type": "code",
   "execution_count": null,
   "id": "df44b6dd-d20a-4a0c-84b5-718bf62cc3ac",
   "metadata": {
    "id": "bea983a3"
   },
   "outputs": [],
   "source": [
    "### Exercise 18:\n",
    "Write a string to a file named `\"output.txt\"`.\n"
   ]
  },
  {
   "cell_type": "code",
   "execution_count": 93,
   "id": "b32050b9-36a9-490f-b234-3cf14d4a5495",
   "metadata": {
    "id": "bea983a3"
   },
   "outputs": [
    {
     "name": "stdout",
     "output_type": "stream",
     "text": [
      "Le texte a été écrit dans output.txt\n"
     ]
    }
   ],
   "source": [
    "# Exercise 18\n",
    "text = \"Hello, this is a sample text.\"\n",
    "with open(\"output.txt\", \"w\") as file:\n",
    "    file.write(text)\n",
    "print(\"Le texte a été écrit dans output.txt\")\n"
   ]
  },
  {
   "cell_type": "code",
   "execution_count": null,
   "id": "bc81f979-f214-43b1-9f6c-3b573a2acd3a",
   "metadata": {
    "id": "bea983a3"
   },
   "outputs": [],
   "source": [
    "### Exercise 19:\n",
    "Read the contents of a file named `\"data.txt\"` and print it line by line.\n",
    "\n",
    "```python"
   ]
  },
  {
   "cell_type": "code",
   "execution_count": null,
   "id": "21957afe-948a-4ff9-819b-d8a3143e8ed6",
   "metadata": {
    "id": "bea983a3"
   },
   "outputs": [],
   "source": [
    "### Exercise 20:\n",
    "Check if a file `\"example.txt\"` exists before opening it.\n",
    "\n",
    "```python\n",
    "    "
   ]
  },
  {
   "cell_type": "code",
   "execution_count": null,
   "id": "90a89d50-45dc-485d-b8bb-d97aa0b8a553",
   "metadata": {
    "id": "bea983a3"
   },
   "outputs": [],
   "source": [
    "# Exercise 20\n",
    "import os\n",
    "filename = \"example.txt\"\n",
    "if os.path.exists(filename):\n",
    "    with open(filename, \"r\") as file:\n",
    "        content = file.read()\n",
    "        print(content)\n",
    "else:\n",
    "    print(f\"Le fichier {filename} n'existe pas.\")\n"
   ]
  },
  {
   "cell_type": "code",
   "execution_count": null,
   "id": "7624c7ec-59b7-4219-9667-92d7ab05bece",
   "metadata": {
    "id": "bea983a3"
   },
   "outputs": [],
   "source": [
    "### Exercise 21:\n",
    "Append a new line `\"This is a new line\"` to an existing file `\"notes.txt\"`.\n",
    "\n",
    "```python"
   ]
  },
  {
   "cell_type": "code",
   "execution_count": 1,
   "id": "acfe3d13-3a66-45dd-9d96-895ee3dda906",
   "metadata": {
    "id": "bea983a3"
   },
   "outputs": [],
   "source": [
    "# Exercise 21\n",
    "file=open(\"notes.txt\",'a')\n",
    "file.write(\"This is a new line\")\n",
    "file.close()\n"
   ]
  },
  {
   "cell_type": "code",
   "execution_count": null,
   "id": "0b5e51c2-4b47-45b6-aebf-6778629edad9",
   "metadata": {
    "id": "bea983a3"
   },
   "outputs": [],
   "source": [
    "### Exercise 22:\n",
    "Read the contents of a file `\"log.txt\"` and store each line in a list `log_lines`.\n",
    "\n",
    "```python\n",
    "    "
   ]
  },
  {
   "cell_type": "code",
   "execution_count": null,
   "id": "96d5b0e8-ce9c-43ee-aac1-3f59dacd1424",
   "metadata": {},
   "outputs": [],
   "source": [
    "# Exercise 22:\n",
    "with open(\"log.txt\", \"r\") as file:\n",
    "    log_lines = file.readlines()"
   ]
  },
  {
   "cell_type": "code",
   "execution_count": null,
   "id": "ac596b6b-a408-4d51-a1ba-6ed6a4ebc0a0",
   "metadata": {
    "id": "bea983a3"
   },
   "outputs": [],
   "source": [
    "### Exercise 23:\n",
    "Create a new file `\"report.txt\"` and write the string `\"Data analysis report\"` to it.\n",
    "\n",
    "```python"
   ]
  },
  {
   "cell_type": "code",
   "execution_count": 11,
   "id": "08550371-1b3c-4e57-98cb-34df68b4a859",
   "metadata": {
    "id": "bea983a3"
   },
   "outputs": [],
   "source": [
    "# Exercise 23\n",
    "file=open(\"report.txt\",'w')\n",
    "file.write(\"Data analysis report\")\n",
    "file.close()"
   ]
  },
  {
   "cell_type": "code",
   "execution_count": null,
   "id": "bc949cf2-82ed-473e-89c0-47db1f865d14",
   "metadata": {
    "id": "bea983a3"
   },
   "outputs": [],
   "source": [
    "### Exercise 24:\n",
    "Replace the word `\"error\"` with `\"issue\"` in a file `\"log.txt\"`.\n",
    "\n",
    "```python"
   ]
  },
  {
   "cell_type": "code",
   "execution_count": null,
   "id": "a8b3409b-b068-4f19-823f-bd0b018f0be6",
   "metadata": {},
   "outputs": [],
   "source": [
    "# Exercise 24:\n",
    "with open (\"log.txt\",'r') as file:\n",
    "    content=file.read()\n",
    "    content=content.replace(\"error\",\"issue\")\n",
    "    with open(\"log.txt\",'w') as file:\n",
    "        file.write(content)\n",
    "\n"
   ]
  },
  {
   "cell_type": "code",
   "execution_count": null,
   "id": "0d7028db-040f-4497-8a9b-e3db2e4db43b",
   "metadata": {
    "id": "bea983a3"
   },
   "outputs": [],
   "source": [
    "### Exercise 25:\n",
    "Count the number of words in a text file `\"document.txt\"`.\n",
    "\n",
    "```python"
   ]
  },
  {
   "cell_type": "code",
   "execution_count": null,
   "id": "16c28d87-74de-4827-aaff-1a00f5681f5d",
   "metadata": {},
   "outputs": [],
   "source": [
    "# Exercise 25:\n",
    "with open(\"document.txt\",'r') as file:\n",
    "    content= file.read()\n",
    "    separateur=content.split()\n",
    "    number_words=len(separateur)\n",
    "   print(\"Le nombre de mots est:\", numbers_words)"
   ]
  },
  {
   "cell_type": "code",
   "execution_count": null,
   "id": "e64ef9b6-6e24-4728-9e17-10e349796fc3",
   "metadata": {
    "id": "bea983a3"
   },
   "outputs": [],
   "source": [
    "### Exercise 26:\n",
    "Write a Python script that reads a file `\"essay.txt\"` and prints the total number of lines, words, and characters.\n",
    "\n",
    "```python"
   ]
  },
  {
   "cell_type": "code",
   "execution_count": null,
   "id": "f5f515b2-723b-4d4f-842a-d12a881cd710",
   "metadata": {
    "id": "bea983a3"
   },
   "outputs": [],
   "source": [
    "# Exercise 26\n",
    "with open (\"essay.txt\",'r') as file:\n",
    "    content=file.read()\n",
    "    \n",
    "with open(\"essay.txt\",'r') as file:\n",
    "    lines=file.readlines()\n",
    "    number_lines=len(lines)\n",
    "    \n",
    "number_words=len(content.split()=\n",
    "number_characters=len(content)\n",
    "    \n",
    "print(\"le nombre total de lignes dans ce fichier est:\",number_lines)\n",
    "print(\"le nombre total de mots dans ce fichier est:\",number_words)\n",
    "print(\"le nombre total de caratères dans ce fichier est:\",number_characters)\n",
    "    "
   ]
  },
  {
   "cell_type": "code",
   "execution_count": null,
   "id": "525c80d6-e75f-4a36-bc5a-e4fc1db8b64c",
   "metadata": {
    "id": "bea983a3"
   },
   "outputs": [],
   "source": [
    "### Exercise 27:\n",
    "Copy the contents of one file `\"source.txt\"` to another file `\"destination.txt\"`.\n",
    "\n",
    "```python"
   ]
  },
  {
   "cell_type": "code",
   "execution_count": null,
   "id": "51005ff4-3c77-4caa-b0b6-7088293bb5af",
   "metadata": {
    "id": "bea983a3"
   },
   "outputs": [],
   "source": [
    "# Exercise 27\n",
    "with open(\"source.txt\",'r') as file:\n",
    "    content=file.read()\n",
    "with open(\"destination.txt\",'a') as file_2:\n",
    "    file_2.write(content)\n",
    "    "
   ]
  },
  {
   "cell_type": "code",
   "execution_count": null,
   "id": "68e1c25d-3a3b-4368-9010-998cd33e9109",
   "metadata": {
    "id": "bea983a3"
   },
   "outputs": [],
   "source": [
    "### Exercise 28:\n",
    "Write a Python function that takes a filename as input and returns the number of lines in the file.\n",
    "\n",
    "```python\n",
    "    "
   ]
  },
  {
   "cell_type": "code",
   "execution_count": null,
   "id": "6dd67aa4-93c6-4c6d-ad03-a76e85c1bf88",
   "metadata": {
    "id": "bea983a3"
   },
   "outputs": [],
   "source": [
    "# Exercise 28\n",
    "def func(filename):\n",
    "    try:\n",
    "        with open(filename, 'r') as file:\n",
    "            lines = file.readlines()\n",
    "            return len(lines)\n",
    "    except FileNotFoundError:\n",
    "        print(f\"Le fichier '{filename}' est introuvable.\")\n",
    "        return 0\n"
   ]
  },
  {
   "cell_type": "code",
   "execution_count": null,
   "id": "2558cc86-6c5e-4720-be75-25d7bd4b1097",
   "metadata": {
    "id": "bea983a3"
   },
   "outputs": [],
   "source": [
    "### Exercise 29:\n",
    "Extract all the words from a text file `\"article.txt\"` that contain more than 5 characters.\n",
    "\n",
    "```python"
   ]
  },
  {
   "cell_type": "code",
   "execution_count": null,
   "id": "d37d0ea4-309c-4094-a89a-8264eaeea6e6",
   "metadata": {
    "id": "bea983a3"
   },
   "outputs": [],
   "source": [
    "# Exercise 29\n",
    "with open(\"article.txt\", \"r\") as file:\n",
    "    content = file.read()\n",
    "words = content.split()\n",
    "words_5 = [word for word in words if len(word) > 5]\n",
    "print(words_5)\n"
   ]
  },
  {
   "cell_type": "code",
   "execution_count": null,
   "id": "32baa6e3-0e08-4369-9afd-60abbfa77712",
   "metadata": {
    "id": "bea983a3"
   },
   "outputs": [],
   "source": [
    "### Exercise 30:\n",
    "Convert the contents of a file `\"notes.txt\"` to uppercase and save the result in another file `\"uppercase_notes.txt\"`.\n",
    "\n",
    "```python"
   ]
  },
  {
   "cell_type": "code",
   "execution_count": null,
   "id": "5b483774-4819-45db-9cff-50d28aac8595",
   "metadata": {
    "id": "bea983a3"
   },
   "outputs": [],
   "source": [
    "# Exercise 30\n",
    "with open(\"note.txt\",'r') as file:\n",
    "    content=file.readl()\n",
    "    content_1=content.upper()\n",
    "with open(\"uppercase_notes.txt\",'a') as file_2:\n",
    "    file_2.write()"
   ]
  },
  {
   "cell_type": "code",
   "execution_count": null,
   "id": "02471028-d585-4563-81cb-1f52fb29df3f",
   "metadata": {
    "id": "bea983a3"
   },
   "outputs": [],
   "source": [
    "### Exercise 31:\n",
    "Write a Python script that reads a file and removes all empty lines.\n",
    "\n",
    "```python\n",
    "    "
   ]
  },
  {
   "cell_type": "code",
   "execution_count": null,
   "id": "f0a6ad56-cc44-42f1-be65-53cbe3049d47",
   "metadata": {
    "id": "bea983a3"
   },
   "outputs": [],
   "source": [
    "# Exercise 31\n",
    "filename = \"fichier.txt\"\n",
    "with open(filename, \"r\", encoding=\"utf-8\") as file:\n",
    "    lines = file.readlines()\n",
    "\n",
    "non_empty_lines = [line for line in lines if line.strip() != \"\"]\n",
    "\n",
    "with open(filename, \"w\", encoding=\"utf-8\") as file:\n",
    "    file.writelines(non_empty_lines)\n",
    "\n",
    "print(f\"Les lignes vides ont été supprimées dans le fichier '{filename}'.\")\n"
   ]
  },
  {
   "cell_type": "code",
   "execution_count": null,
   "id": "1c3c25e7-922d-4404-a53d-d88370efb06d",
   "metadata": {
    "id": "bea983a3"
   },
   "outputs": [],
   "source": [
    "### Exercise 32:\n",
    "Open a file `\"config.txt\"` in both read and write mode.\n",
    "\n",
    "```python"
   ]
  },
  {
   "cell_type": "code",
   "execution_count": null,
   "id": "d0a4d989-427b-40ea-bd7d-731691986566",
   "metadata": {
    "id": "bea983a3"
   },
   "outputs": [],
   "source": [
    "# Exercise 32\n",
    "with open(\"config.txt\", \"r+\", ) as file:\n",
    "    content = file.read()\n",
    "    file.write(\"\\nNouvelle ligne ajoutée.\")\n"
   ]
  },
  {
   "cell_type": "code",
   "execution_count": null,
   "id": "e3e87b18-ecc5-4de8-b68e-29372db92c4e",
   "metadata": {
    "id": "bea983a3"
   },
   "outputs": [],
   "source": [
    "### Exercise 33:\n",
    "Write a Python function that reads a file and prints the longest line in the file.\n",
    "\n",
    "```python"
   ]
  },
  {
   "cell_type": "code",
   "execution_count": null,
   "id": "e06c446f-8bfa-47b7-b8cc-ccb960da2284",
   "metadata": {
    "id": "bea983a3"
   },
   "outputs": [],
   "source": [
    "# Exercise 33\n",
    "def print_longest_line(filename):\n",
    "    try:\n",
    "        with open(filename, 'r', encoding='utf-8') as file:\n",
    "            lines = file.readlines()\n",
    "            if not lines:\n",
    "                print(\"Le fichier est vide.\")\n",
    "                return\n",
    "            longest_line = max(lines, key=len)\n",
    "            print(\"La plus longue ligne est :\")\n",
    "            print(longest_line.rstrip()) \n",
    "    except FileNotFoundError:\n",
    "        print(\"Le fichier est introuvable.\")\n"
   ]
  },
  {
   "cell_type": "code",
   "execution_count": null,
   "id": "0f6ff527-4acd-4566-9fe9-c4329ee0a4b4",
   "metadata": {
    "id": "bea983a3"
   },
   "outputs": [],
   "source": [
    "### Exercise 34:\n",
    "Write a Python script to count the frequency of each letter in a text file `\"message.txt\"`.\n",
    "\n",
    "```python"
   ]
  },
  {
   "cell_type": "code",
   "execution_count": null,
   "id": "55ba53c9-16d0-446b-b4a8-c2149a8722c3",
   "metadata": {
    "id": "bea983a3"
   },
   "outputs": [],
   "source": [
    "# Exercise 34\n"
   ]
  },
  {
   "cell_type": "code",
   "execution_count": null,
   "id": "6ec5a8cc-7558-423a-a04b-2f267cd99709",
   "metadata": {
    "id": "bea983a3"
   },
   "outputs": [],
   "source": [
    "### Exercise 35:\n",
    "Write a Python script that reads a file and prints the total number of characters, excluding spaces.\n",
    "\n",
    "```python\n",
    "    "
   ]
  },
  {
   "cell_type": "code",
   "execution_count": null,
   "id": "f69e46c1-5f2d-419c-9e88-70498ba309be",
   "metadata": {
    "id": "bea983a3"
   },
   "outputs": [],
   "source": [
    "# Exercise 35\n",
    "with open (\"essay.txt\",'r') as file:\n",
    "    content=file.read()\n",
    "number_words=len(content.split()=\n",
    "number_characters=len(content)\n",
    "print(\"le nombre total de caratères dans ce fichier est:\",number_characters)\n",
    "    "
   ]
  },
  {
   "cell_type": "code",
   "execution_count": null,
   "id": "d3d56f11-a344-4bb4-b998-add28dbdb5c9",
   "metadata": {
    "id": "bea983a3"
   },
   "outputs": [],
   "source": [
    "### Exercise 36:\n",
    "Create a Python script to check whether a file is empty or not.\n",
    "\n",
    "```python"
   ]
  },
  {
   "cell_type": "code",
   "execution_count": null,
   "id": "ee7424df-0383-4093-b505-70ce86ea38ab",
   "metadata": {
    "id": "bea983a3"
   },
   "outputs": [],
   "source": [
    "# Exercise 36\n",
    "import os\n",
    "filename = \"mon_fichier.txt\"\n",
    "if os.path.isfile(filename):\n",
    "    if os.path.getsize(filename) == 0:\n",
    "        print(\"Le fichier  est vide.\")\n",
    "    else:\n",
    "        print(\"Le fichier  n'est pas vide.\")\n",
    "else:\n",
    "    print(\"Le fichier n'existe pas.\")\n"
   ]
  },
  {
   "cell_type": "code",
   "execution_count": null,
   "id": "62a97540-93e1-4d47-a5ee-c887f0297a4c",
   "metadata": {
    "id": "bea983a3"
   },
   "outputs": [],
   "source": [
    "### Exercise 37:\n",
    "Write a Python function that reads a file and removes all punctuation marks from the text.\n",
    "\n",
    "```python"
   ]
  },
  {
   "cell_type": "code",
   "execution_count": null,
   "id": "d1924809-cee8-4791-b835-2dec1c4ab90e",
   "metadata": {
    "id": "bea983a3"
   },
   "outputs": [],
   "source": [
    "# Exercise 37\n",
    "import os\n",
    "\n",
    "filename = \"fichier.txt\"\n",
    "if os.path.exists(filename):\n",
    "    if os.path.getsize(filename) == 0:\n",
    "        print(f\"Le fichier '{filename}' est vide.\")\n",
    "    else:\n",
    "        print(\"Le fichier n'est pas vide.\")\n",
    "else:\n",
    "    print(\"Le fichier n'existe pas.\")\n"
   ]
  },
  {
   "cell_type": "code",
   "execution_count": null,
   "id": "280c2c21-f9fe-4e57-a0df-2fe9f7c3d633",
   "metadata": {
    "id": "bea983a3"
   },
   "outputs": [],
   "source": [
    "### Exercise 38:\n",
    "Create a Python function that writes a list of strings to a file, each string on a new line.\n",
    "\n",
    "```python"
   ]
  },
  {
   "cell_type": "code",
   "execution_count": null,
   "id": "4a74ebd4-2e2b-47ed-b038-f8e75e11736c",
   "metadata": {
    "id": "bea983a3"
   },
   "outputs": [],
   "source": [
    "# Exercise 38\n",
    "def write_list_to_file(filename, lines):\n",
    "    try:\n",
    "        with open(filename, 'w') as file:\n",
    "            for line in lines:\n",
    "                file.write(line + '\\n')  \n",
    "        print(f\"Le contenu a été écrit dans le fichier '{filename}'.\")\n",
    "    except Exception as e:\n",
    "        print(f\"Une erreur est survenue : {e}\")\n"
   ]
  },
  {
   "cell_type": "code",
   "execution_count": null,
   "id": "c3218d83-ab11-43df-aae0-cbec9241f844",
   "metadata": {
    "id": "bea983a3"
   },
   "outputs": [],
   "source": [
    "### Exercise 39:\n",
    "Write a Python script to count the number of lines that start with a specific letter (e.g., \"A\") in a text file.\n",
    "\n",
    "```python\n",
    "    "
   ]
  },
  {
   "cell_type": "code",
   "execution_count": null,
   "id": "9786ac54-5765-4673-bef4-f1e4bfe6efac",
   "metadata": {
    "id": "bea983a3"
   },
   "outputs": [],
   "source": [
    "# Exercise 39\n",
    "```\n",
    "\n",
    "---"
   ]
  },
  {
   "cell_type": "code",
   "execution_count": null,
   "id": "f4a621df-91e5-485d-b369-344cdc233096",
   "metadata": {
    "id": "bea983a3"
   },
   "outputs": [],
   "source": [
    "### Exercise 40:\n",
    "Write a Python function that takes a string as input and writes it to a file `\"output.txt\"` in reverse order.\n",
    "\n",
    "```python\n",
    "    "
   ]
  },
  {
   "cell_type": "code",
   "execution_count": null,
   "id": "31593c9c-62cf-46eb-9cd2-e04b49766f83",
   "metadata": {
    "id": "bea983a3"
   },
   "outputs": [],
   "source": [
    "# Exercise 40\n",
    "```\n",
    "\n",
    "---"
   ]
  },
  {
   "cell_type": "code",
   "execution_count": null,
   "id": "fb116f12-e274-417e-9131-ce64090b2ff8",
   "metadata": {
    "id": "bea983a3"
   },
   "outputs": [],
   "source": [
    "### Exercise 41:\n",
    "Write a Python script that reads a file and prints all the lines that contain the word `\"Python\"`.\n",
    "\n",
    "```python"
   ]
  },
  {
   "cell_type": "code",
   "execution_count": null,
   "id": "2b212592-7ce5-4ab4-be58-5349e2c3de01",
   "metadata": {
    "id": "bea983a3"
   },
   "outputs": [],
   "source": [
    "# Exercise 41\n",
    "filename = \"document.txt\"\n",
    "try:\n",
    "    with open(filename, \"r\", encoding=\"utf-8\") as file:\n",
    "        for line in file:\n",
    "            if \"Python\" in line:\n",
    "                print(line.rstrip()) \n",
    "except FileNotFoundError:\n",
    "    print(f\"Le fichier '{filename}' est introuvable.\")\n"
   ]
  },
  {
   "cell_type": "code",
   "execution_count": null,
   "id": "02927d6b-08d0-4d9a-a2b6-b855ebe5de15",
   "metadata": {
    "id": "bea983a3"
   },
   "outputs": [],
   "source": [
    "### Exercise 42:\n",
    "Write a Python script that opens a file and removes all numeric digits from the file's content.\n",
    "\n",
    "```python"
   ]
  },
  {
   "cell_type": "code",
   "execution_count": null,
   "id": "b5fa9d96-80cc-412e-8449-d5091e8dea8b",
   "metadata": {
    "id": "bea983a3"
   },
   "outputs": [],
   "source": [
    "# Exercise 42\n",
    "```\n",
    "\n",
    "---"
   ]
  },
  {
   "cell_type": "code",
   "execution_count": null,
   "id": "79827d01-89e6-47cb-b4e2-ab9ca9e249f6",
   "metadata": {
    "id": "bea983a3"
   },
   "outputs": [],
   "source": [
    "### Exercise 43:\n",
    "Write a Python script to find the most frequent word in a text file `\"book.txt\"`.\n",
    "\n",
    "```python"
   ]
  },
  {
   "cell_type": "code",
   "execution_count": null,
   "id": "9cdc8450-d310-4744-a098-1b9b0ba0623f",
   "metadata": {
    "id": "bea983a3"
   },
   "outputs": [],
   "source": [
    "# Exercise 43\n",
    "```\n",
    "\n",
    "---"
   ]
  },
  {
   "cell_type": "code",
   "execution_count": null,
   "id": "46ec73c8-1a1b-45cf-9aba-11bb234a7d22",
   "metadata": {
    "id": "bea983a3"
   },
   "outputs": [],
   "source": [
    "### Exercise 44:\n",
    "Write a Python script that reads a file and prints all the lines that contain exactly 5 words.\n",
    "\n",
    "```python\n",
    "    "
   ]
  },
  {
   "cell_type": "code",
   "execution_count": null,
   "id": "f0546626-133a-40a4-90a3-585398186679",
   "metadata": {
    "id": "bea983a3"
   },
   "outputs": [],
   "source": [
    "# Exercise 44\n",
    "# Nom du fichier à lire\n",
    "filename = \"document.txt\"\n",
    "\n",
    "try:\n",
    "    with open(filename, \"r\", encoding=\"utf-8\") as file:\n",
    "        for line in file:\n",
    "            words = line.strip().split()\n",
    "            if len(words) == 5:\n",
    "                print(line.rstrip()) \n",
    "except FileNotFoundError:\n",
    "    print(f\"Le fichier '{filename}' est introuvable.\")\n"
   ]
  },
  {
   "cell_type": "code",
   "execution_count": null,
   "id": "acb7ee97-2558-4337-8846-3438d2c7776c",
   "metadata": {
    "id": "bea983a3"
   },
   "outputs": [],
   "source": [
    "### Exercise 45:\n",
    "Write a Python script to read a file and print the first and last line of the file.\n",
    "\n",
    "```python\n",
    "    "
   ]
  },
  {
   "cell_type": "code",
   "execution_count": null,
   "id": "3de59bf6-076e-4b4a-8ec3-c05e50b501c2",
   "metadata": {
    "id": "bea983a3"
   },
   "outputs": [],
   "source": [
    "# Exercise 45\n",
    "```\n",
    "\n",
    "---"
   ]
  },
  {
   "cell_type": "code",
   "execution_count": null,
   "id": "9fee98cc-175a-4222-90a4-efbaac829c10",
   "metadata": {
    "id": "bea983a3"
   },
   "outputs": [],
   "source": [
    "### Exercise 46:\n",
    "Write a Python script that checks if a file `\"students.txt\"` is writable.\n",
    "\n",
    "```python"
   ]
  },
  {
   "cell_type": "code",
   "execution_count": null,
   "id": "9bb2a4d4-58db-41c6-9561-d1a0f0999efa",
   "metadata": {
    "id": "bea983a3"
   },
   "outputs": [],
   "source": [
    "# Exercise 46\n",
    "```\n",
    "\n",
    "---"
   ]
  },
  {
   "cell_type": "code",
   "execution_count": null,
   "id": "426da981-9658-4dcd-bfb7-7633042f0d6e",
   "metadata": {
    "id": "bea983a3"
   },
   "outputs": [],
   "source": [
    "### Exercise 47:\n",
    "Create a Python function that opens a file and returns the number of unique words in the file.\n",
    "\n",
    "```python\n",
    "    "
   ]
  },
  {
   "cell_type": "code",
   "execution_count": null,
   "id": "22a54f32-0960-46ae-a2c2-082fa2907d08",
   "metadata": {
    "id": "bea983a3"
   },
   "outputs": [],
   "source": [
    "# Exercise 47\n",
    "```\n",
    "\n",
    "---"
   ]
  },
  {
   "cell_type": "code",
   "execution_count": null,
   "id": "52157e60-175e-42e4-b3ab-d1c9d214e647",
   "metadata": {
    "id": "bea983a3"
   },
   "outputs": [],
   "source": [
    "### Exercise 48:\n",
    "Write a Python script that reads a file and prints all lines in reverse order.\n",
    "\n",
    "```python"
   ]
  },
  {
   "cell_type": "code",
   "execution_count": null,
   "id": "90a82d03-6d04-42cc-b524-0c4d7f523f2d",
   "metadata": {
    "id": "bea983a3"
   },
   "outputs": [],
   "source": [
    "# Exercise 48\n",
    "```\n",
    "\n",
    "---"
   ]
  },
  {
   "cell_type": "code",
   "execution_count": null,
   "id": "013137a4-c0b6-4383-be19-9937295f2be0",
   "metadata": {
    "id": "bea983a3"
   },
   "outputs": [],
   "source": [
    "### Exercise 49:\n",
    "Write a Python function that reads a file and returns the most common letter in the text.\n",
    "\n",
    "```python\n",
    "    "
   ]
  },
  {
   "cell_type": "code",
   "execution_count": null,
   "id": "65638d3b-7c4d-4ee8-8932-7c5ff5b240e8",
   "metadata": {
    "id": "bea983a3"
   },
   "outputs": [],
   "source": [
    "# Exercise 49\n",
    "```\n",
    "\n",
    "---"
   ]
  },
  {
   "cell_type": "code",
   "execution_count": null,
   "id": "57dfaa31-3d6c-495f-99f8-4270a0332332",
   "metadata": {
    "id": "bea983a3"
   },
   "outputs": [],
   "source": [
    "### Exercise 50:\n",
    "Write a Python script that reads a file and replaces every occurrence of `\"Python\"` with `\"Java\"`."
   ]
  },
  {
   "cell_type": "code",
   "execution_count": null,
   "id": "dcf6ca38",
   "metadata": {
    "id": "dcf6ca38"
   },
   "outputs": [],
   "source": [
    "# Exercise 50\n",
    "filename = \"document.txt\"\n",
    "\n",
    "try:\n",
    "    with open(filename, \"r\", encoding=\"utf-8\") as file:\n",
    "        content = file.read()\n",
    "    updated_content = content.replace(\"Python\", \"Java\")\n",
    "    with open(filename, \"w\", encoding=\"utf-8\") as file:\n",
    "        file.write(updated_content)\n",
    "    print(\"Toutes les occurrences de 'Python' ont été remplacées par 'Java'\")\n",
    "except FileNotFoundError:\n",
    "    print(f\"Le fichier '{filename}' est introuvable.\")\n"
   ]
  }
 ],
 "metadata": {
  "colab": {
   "provenance": []
  },
  "kernelspec": {
   "display_name": "Python [conda env:base] *",
   "language": "python",
   "name": "conda-base-py"
  },
  "language_info": {
   "codemirror_mode": {
    "name": "ipython",
    "version": 3
   },
   "file_extension": ".py",
   "mimetype": "text/x-python",
   "name": "python",
   "nbconvert_exporter": "python",
   "pygments_lexer": "ipython3",
   "version": "3.12.7"
  }
 },
 "nbformat": 4,
 "nbformat_minor": 5
}
