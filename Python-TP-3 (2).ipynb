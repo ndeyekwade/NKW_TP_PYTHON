{
 "cells": [
  {
   "cell_type": "markdown",
   "id": "d68c1dee",
   "metadata": {
    "id": "d68c1dee"
   },
   "source": [
    "# Practical_3: Iterable objects or Containers"
   ]
  },
  {
   "cell_type": "markdown",
   "id": "76107fb6-9455-4fc4-aa80-f331ab8116fc",
   "metadata": {
    "id": "bea983a3"
   },
   "source": [
    "---\n",
    "\n",
    "### Exercise 1:\n",
    "Create a list of integers from 1 to 10."
   ]
  },
  {
   "cell_type": "code",
   "execution_count": 3,
   "id": "c9853050-6c97-4cc1-a4ed-b4a07046fbf3",
   "metadata": {
    "id": "bea983a3"
   },
   "outputs": [
    {
     "data": {
      "text/plain": [
       "[1, 2, 3, 4, 5, 6, 7, 8, 9, 10]"
      ]
     },
     "execution_count": 3,
     "metadata": {},
     "output_type": "execute_result"
    }
   ],
   "source": [
    "list = [1 , 2 , 3 , 4 , 5 , 6 , 7 , 8 , 9 , 10]\n",
    "list"
   ]
  },
  {
   "cell_type": "code",
   "execution_count": null,
   "id": "287532e1-9573-4f74-9c95-e6e5dc378507",
   "metadata": {
    "id": "bea983a3"
   },
   "outputs": [],
   "source": [
    "### Exercise 2:\n",
    "Create a tuple containing the elements `\"apple\"`, `\"banana\"`, and `\"cherry\"`."
   ]
  },
  {
   "cell_type": "code",
   "execution_count": 17,
   "id": "6303c019-60ce-467f-bf37-f46a5c76957a",
   "metadata": {
    "id": "bea983a3"
   },
   "outputs": [],
   "source": [
    "# Exercise 2\n",
    "my_tuple = ('apple', 'banana' , 'cherry')\n"
   ]
  },
  {
   "cell_type": "markdown",
   "id": "bca2e924-4855-4509-a22b-b2295aafc97e",
   "metadata": {
    "id": "bea983a3"
   },
   "source": [
    "### Exercise 3:\n",
    "Convert the list `numbers = [10, 20, 30, 40]` into a tuple."
   ]
  },
  {
   "cell_type": "code",
   "execution_count": 1,
   "id": "38e266e9-e56b-4fb7-95c7-b8b2594d5eff",
   "metadata": {
    "id": "bea983a3"
   },
   "outputs": [
    {
     "name": "stdout",
     "output_type": "stream",
     "text": [
      "(10, 20, 30, 40)\n"
     ]
    }
   ],
   "source": [
    "numbers = [10, 20, 30, 40]\n",
    "numbers_tuple = tuple (numbers)\n",
    "print(numbers_tuple)"
   ]
  },
  {
   "cell_type": "markdown",
   "id": "2caf61f9-1ffd-4a82-af39-019f283cf1ab",
   "metadata": {
    "id": "bea983a3"
   },
   "source": [
    "### Exercise 4:\n",
    "Create a set containing the elements `1, 2, 3, 4, 5`."
   ]
  },
  {
   "cell_type": "code",
   "execution_count": 4,
   "id": "b680ad1d-e6df-40ef-b796-529539ddd86a",
   "metadata": {
    "id": "bea983a3"
   },
   "outputs": [
    {
     "name": "stdout",
     "output_type": "stream",
     "text": [
      "{1, 2, 3, 4, 5}\n"
     ]
    }
   ],
   "source": [
    "# Exercise 4\n",
    "my_set = {1, 2, 3, 4, 5}\n",
    "print(my_set)\n"
   ]
  },
  {
   "cell_type": "code",
   "execution_count": null,
   "id": "aae8c848-fa3a-4b6f-86e6-dd1c044b23d3",
   "metadata": {
    "id": "bea983a3",
    "jp-MarkdownHeadingCollapsed": true
   },
   "outputs": [],
   "source": [
    "### Exercise 5:\n",
    "Create a dictionary `student` with the keys `\"name\"`, `\"age\"`, and `\"grade\"` and corresponding values `\"Alice\"`, `20`, and `\"A\"`."
   ]
  },
  {
   "cell_type": "code",
   "execution_count": 6,
   "id": "c82a6350-f3cd-4760-83f5-418ceeb6bc5a",
   "metadata": {
    "id": "bea983a3",
    "jp-MarkdownHeadingCollapsed": true
   },
   "outputs": [
    {
     "name": "stdout",
     "output_type": "stream",
     "text": [
      "{'name': 'Alice', 'age': 20, 'grade': 'A'}\n"
     ]
    }
   ],
   "source": [
    "\n",
    "# Exercise 5\n",
    "student = {\"name\": \"Alice\",\"age\": 20,\"grade\": \"A\"}\n",
    "print(student)\n"
   ]
  },
  {
   "cell_type": "code",
   "execution_count": null,
   "id": "9047638d-64ee-406e-bce4-766a581fa7c2",
   "metadata": {
    "id": "bea983a3",
    "jp-MarkdownHeadingCollapsed": true
   },
   "outputs": [],
   "source": [
    "### Exercise 6:\n",
    "Access the second element of the list `[10, 20, 30, 40, 50]` using indexing."
   ]
  },
  {
   "cell_type": "code",
   "execution_count": 8,
   "id": "f6dcbc1d-b264-4095-8a78-a39f96d97307",
   "metadata": {
    "id": "bea983a3",
    "jp-MarkdownHeadingCollapsed": true
   },
   "outputs": [
    {
     "name": "stdout",
     "output_type": "stream",
     "text": [
      "20\n"
     ]
    }
   ],
   "source": [
    "\n",
    "# Exercise 6\n",
    "numbers = [10, 20, 30, 40, 50]\n",
    "print( numbers[1])\n"
   ]
  },
  {
   "cell_type": "code",
   "execution_count": null,
   "id": "44594917-67db-406e-813c-0e6c6bf611a2",
   "metadata": {
    "id": "bea983a3"
   },
   "outputs": [],
   "source": [
    "### Exercise 7:\n",
    "Change the third element of the list `fruits = [\"apple\", \"banana\", \"cherry\", \"orange\"]` to `\"mango\"`."
   ]
  },
  {
   "cell_type": "code",
   "execution_count": 28,
   "id": "63c3c331-c220-499a-b192-77f2518fba87",
   "metadata": {
    "id": "bea983a3"
   },
   "outputs": [
    {
     "name": "stdout",
     "output_type": "stream",
     "text": [
      "['apple', 'banana', 'mango', 'orange']\n"
     ]
    }
   ],
   "source": [
    "\n",
    "# Exercise 7\n",
    "fruits = [\"apple\", \"banana\", \"cherry\", \"orange\"]\n",
    "fruits[2] = \"mango\"\n",
    "print(fruits)\n"
   ]
  },
  {
   "cell_type": "code",
   "execution_count": null,
   "id": "e816898e-de0e-49c5-9654-55d35b29ff75",
   "metadata": {
    "id": "bea983a3"
   },
   "outputs": [],
   "source": [
    "---\n",
    "\n",
    "### Exercise 8:\n",
    "Add the number `6` to the set `numbers = {1, 2, 3, 4, 5}`."
   ]
  },
  {
   "cell_type": "code",
   "execution_count": 30,
   "id": "353af517-9692-41fd-bef3-f313ee8ccd97",
   "metadata": {
    "id": "bea983a3"
   },
   "outputs": [
    {
     "name": "stdout",
     "output_type": "stream",
     "text": [
      "{1, 2, 3, 4, 5, 6}\n"
     ]
    }
   ],
   "source": [
    "# Exercise 8\n",
    "numbers = {1, 2, 3, 4, 5}\n",
    "numbers.add(6)\n",
    "print(numbers)\n"
   ]
  },
  {
   "cell_type": "code",
   "execution_count": null,
   "id": "f3dca3f6-e964-4c41-8fa0-a7c8b0352ed7",
   "metadata": {
    "id": "bea983a3"
   },
   "outputs": [],
   "source": [
    "\n",
    "### Exercise 9:\n",
    "Remove the key `\"age\"` from the dictionary `person = {\"name\": \"John\", \"age\": 25, \"city\": \"New York\"}`."
   ]
  },
  {
   "cell_type": "code",
   "execution_count": 32,
   "id": "02236937-9735-4586-b633-de333e5a79e4",
   "metadata": {
    "id": "bea983a3"
   },
   "outputs": [
    {
     "name": "stdout",
     "output_type": "stream",
     "text": [
      "{'name': 'John', 'city': 'New York'}\n"
     ]
    }
   ],
   "source": [
    "\n",
    "# Exercise 9\n",
    "person = {\"name\": \"John\", \"age\": 25, \"city\": \"New York\"}\n",
    "person.pop(\"age\")\n",
    "print(person)\n"
   ]
  },
  {
   "cell_type": "code",
   "execution_count": null,
   "id": "7a714061-4ca8-4732-a37a-106d70d7c7da",
   "metadata": {
    "id": "bea983a3"
   },
   "outputs": [],
   "source": [
    "### Exercise 10:\n",
    "Create a range object starting from 0 to 9."
   ]
  },
  {
   "cell_type": "code",
   "execution_count": 36,
   "id": "37503b08-f2fd-4cbd-bb2a-5d828662a88e",
   "metadata": {
    "id": "bea983a3"
   },
   "outputs": [
    {
     "name": "stdout",
     "output_type": "stream",
     "text": [
      "0\n",
      "1\n",
      "2\n",
      "3\n",
      "4\n",
      "5\n",
      "6\n",
      "7\n",
      "8\n",
      "9\n"
     ]
    }
   ],
   "source": [
    "# Exercise 10\n",
    "for i in range(10):\n",
    "    print(i)\n"
   ]
  },
  {
   "cell_type": "code",
   "execution_count": null,
   "id": "d6e0a9c8-9056-4895-95c1-3e78e23d98d6",
   "metadata": {
    "id": "bea983a3"
   },
   "outputs": [],
   "source": [
    "---\n",
    "\n",
    "### Exercise 11:\n",
    "Use a list comprehension to create a list of squares of numbers from 1 to 10."
   ]
  },
  {
   "cell_type": "code",
   "execution_count": 38,
   "id": "31233aa5-1397-48f6-9476-9a2770b5230a",
   "metadata": {
    "id": "bea983a3"
   },
   "outputs": [
    {
     "name": "stdout",
     "output_type": "stream",
     "text": [
      "[1, 4, 9, 16, 25, 36, 49, 64, 81, 100]\n"
     ]
    }
   ],
   "source": [
    "\n",
    "# Exercise 11\n",
    "squares = [x**2 for x in range(1, 11)]\n",
    "print(squares)\n"
   ]
  },
  {
   "cell_type": "code",
   "execution_count": null,
   "id": "80149bc1-a1b5-44fd-9f8c-9bc374e7b4fa",
   "metadata": {
    "id": "bea983a3"
   },
   "outputs": [],
   "source": [
    "---\n",
    "\n",
    "### Exercise 12:\n",
    "Create a tuple of even numbers between 2 and 10 using a tuple comprehension."
   ]
  },
  {
   "cell_type": "code",
   "execution_count": 10,
   "id": "cfbecca0-5cc1-4472-bbf3-713c6e1d38a5",
   "metadata": {
    "id": "bea983a3"
   },
   "outputs": [
    {
     "name": "stdout",
     "output_type": "stream",
     "text": [
      "(2, 4, 6, 8, 10)\n"
     ]
    }
   ],
   "source": [
    "\n",
    "# Exercise 12\n",
    "even_numbers = tuple(x for x in range(2, 11, 2))\n",
    "print(even_numbers)\n"
   ]
  },
  {
   "cell_type": "code",
   "execution_count": null,
   "id": "1bbc6e34-1356-4c9e-9791-8bcda95bf91d",
   "metadata": {
    "id": "bea983a3"
   },
   "outputs": [],
   "source": [
    "---\n",
    "\n",
    "### Exercise 13:\n",
    "Use a for loop to iterate through the list `fruits = [\"apple\", \"banana\", \"cherry\"]` and print each element.\n",
    "\n",
    "```python"
   ]
  },
  {
   "cell_type": "code",
   "execution_count": 16,
   "id": "e42b3246-6e80-47a6-a2ae-6426bdabc03b",
   "metadata": {
    "id": "bea983a3"
   },
   "outputs": [
    {
     "name": "stdout",
     "output_type": "stream",
     "text": [
      "apple\n",
      "banana\n",
      "cherry\n"
     ]
    }
   ],
   "source": [
    "# Exercise 13\n",
    "fruits = [\"apple\", \"banana\", \"cherry\"]\n",
    "for i in fruits:\n",
    "    print(i)\n"
   ]
  },
  {
   "cell_type": "code",
   "execution_count": null,
   "id": "081bd7aa-60ec-41ed-978e-8cf1f61d1607",
   "metadata": {
    "id": "bea983a3"
   },
   "outputs": [],
   "source": [
    "---\n",
    "\n",
    "### Exercise 14:\n",
    "Check if the value `3` exists in the set `numbers = {1, 2, 3, 4, 5}`.\n",
    "\n",
    "```python"
   ]
  },
  {
   "cell_type": "code",
   "execution_count": 43,
   "id": "b5743159-4e57-4cc4-93fd-b787afe28700",
   "metadata": {
    "id": "bea983a3"
   },
   "outputs": [
    {
     "name": "stdout",
     "output_type": "stream",
     "text": [
      "La valeur 3 se trouve dans l'ensemble\n"
     ]
    }
   ],
   "source": [
    "# Exercise 14\n",
    "numbers = {1, 2, 3, 4, 5}\n",
    "for i in numbers:\n",
    "    if (i==3):\n",
    "        print(\"La valeur 3 se trouve dans l'ensemble\")\n",
    "        break"
   ]
  },
  {
   "cell_type": "code",
   "execution_count": null,
   "id": "64b8c11d-d71b-43b1-9f75-a2bda8de9401",
   "metadata": {
    "id": "bea983a3"
   },
   "outputs": [],
   "source": [
    "---\n",
    "\n",
    "### Exercise 15:\n",
    "Use the `len()` function to find the length of the tuple `numbers = (10, 20, 30)`."
   ]
  },
  {
   "cell_type": "code",
   "execution_count": 45,
   "id": "88139899-4379-45b6-b544-758940ce21a9",
   "metadata": {
    "id": "bea983a3"
   },
   "outputs": [
    {
     "name": "stdout",
     "output_type": "stream",
     "text": [
      "3\n"
     ]
    }
   ],
   "source": [
    "# Exercise 15\n",
    "numbers = (10, 20, 30)\n",
    "print(len(numbers))"
   ]
  },
  {
   "cell_type": "code",
   "execution_count": null,
   "id": "ac9de580-c58a-4ee2-8107-f1c3b9d960af",
   "metadata": {
    "id": "bea983a3"
   },
   "outputs": [],
   "source": [
    "### Exercise 16:\n",
    "Add the value `100` at the end of the list `scores = [80, 85, 90, 95]`.\n"
   ]
  },
  {
   "cell_type": "code",
   "execution_count": 71,
   "id": "5e5804c9-d5fc-4b6d-9953-3c477fee1058",
   "metadata": {
    "id": "bea983a3"
   },
   "outputs": [
    {
     "name": "stdout",
     "output_type": "stream",
     "text": [
      "[80, 85, 90, 95, 100]\n"
     ]
    }
   ],
   "source": [
    "# Exercise 16\n",
    "scores = [80, 85, 90, 95]\n",
    "scores.append(100)  \n",
    "print(scores)       \n"
   ]
  },
  {
   "cell_type": "code",
   "execution_count": null,
   "id": "3b1145cb-a382-47f5-abb2-54196f5fd34f",
   "metadata": {
    "id": "bea983a3"
   },
   "outputs": [],
   "source": [
    "---\n",
    "\n",
    "### Exercise 17:\n",
    "Write a function that takes a list as input and returns the sum of all elements in the list."
   ]
  },
  {
   "cell_type": "code",
   "execution_count": 117,
   "id": "b52cf403-539b-4856-8e77-5f9f1325f8bb",
   "metadata": {
    "id": "bea983a3"
   },
   "outputs": [],
   "source": [
    "# Exercise 17\n",
    "def func(liste):\n",
    "    somme=0\n",
    "    for i in liste:\n",
    "        somme+=i\n",
    "    return somme"
   ]
  },
  {
   "cell_type": "code",
   "execution_count": 119,
   "id": "b8f29780-2aee-41e7-871e-8f29bde8a94e",
   "metadata": {},
   "outputs": [
    {
     "name": "stdout",
     "output_type": "stream",
     "text": [
      "350\n"
     ]
    }
   ],
   "source": [
    "scores = [80, 85, 90, 95]\n",
    "result=func(scores )\n",
    "print(result)"
   ]
  },
  {
   "cell_type": "code",
   "execution_count": null,
   "id": "085d0256-e998-4b18-9b01-f539b548195e",
   "metadata": {
    "id": "bea983a3"
   },
   "outputs": [],
   "source": [
    "### Exercise 18:\n",
    "Create a set containing the unique elements of the list `numbers = [1, 2, 2, 3, 4, 4, 5]`."
   ]
  },
  {
   "cell_type": "code",
   "execution_count": 121,
   "id": "f622fd2f-8690-4b64-b846-f592d939283d",
   "metadata": {
    "id": "bea983a3"
   },
   "outputs": [
    {
     "name": "stdout",
     "output_type": "stream",
     "text": [
      "{1, 2, 3, 4, 5}\n"
     ]
    }
   ],
   "source": [
    "# Exercise 18\n",
    "numbers=[1, 2, 2, 3, 4, 4, 5]\n",
    "ensemble = set(numbers)\n",
    "print(ensemble)"
   ]
  },
  {
   "cell_type": "code",
   "execution_count": null,
   "id": "b56762c8-63d7-4a9c-865a-2fc7ed8bd9d3",
   "metadata": {
    "id": "bea983a3"
   },
   "outputs": [],
   "source": [
    "### Exercise 19:\n",
    "Convert the string `\"hello\"` into a list of characters.\n"
   ]
  },
  {
   "cell_type": "code",
   "execution_count": 131,
   "id": "d5b4e652-dc57-462d-a88a-dbfdc057ac61",
   "metadata": {
    "id": "bea983a3"
   },
   "outputs": [
    {
     "name": "stdout",
     "output_type": "stream",
     "text": [
      "['h', 'e', 'l', 'l', 'o']\n"
     ]
    }
   ],
   "source": [
    "# Exercise 19\n",
    "var = \"hello\"\n",
    "new_list = []\n",
    "for i in var:\n",
    "    new_list.append(i)\n",
    "print(new_list)\n"
   ]
  },
  {
   "cell_type": "code",
   "execution_count": null,
   "id": "95c9a746-309e-4721-b2fd-66df979426ca",
   "metadata": {
    "id": "bea983a3"
   },
   "outputs": [],
   "source": [
    "### Exercise 20:\n",
    "Write a Python function that reverses a tuple `(1, 2, 3, 4)`."
   ]
  },
  {
   "cell_type": "code",
   "execution_count": 135,
   "id": "9be6b082-14a1-4a95-bdc5-d709082a5357",
   "metadata": {
    "id": "bea983a3"
   },
   "outputs": [],
   "source": [
    "# Exercise 20\n",
    "def reverse_tuple(t):\n",
    "    return t[::-1]\n"
   ]
  },
  {
   "cell_type": "code",
   "execution_count": 137,
   "id": "20db1301-2d4f-4e74-ac76-7a33b6760de4",
   "metadata": {},
   "outputs": [
    {
     "name": "stdout",
     "output_type": "stream",
     "text": [
      "(4, 3, 2, 1)\n"
     ]
    }
   ],
   "source": [
    "my_tuple = (1, 2, 3, 4)\n",
    "reversed_tuple = reverse_tuple(my_tuple)\n",
    "print(reversed_tuple)\n"
   ]
  },
  {
   "cell_type": "code",
   "execution_count": null,
   "id": "a8ab2b6b-3e2a-4cfb-930d-9c6a4a41620a",
   "metadata": {
    "id": "bea983a3"
   },
   "outputs": [],
   "source": [
    "### Exercise 21:\n",
    "Merge two dictionaries `dict1 = {\"a\": 1, \"b\": 2}` and `dict2 = {\"c\": 3, \"d\": 4}` into a single dictionary.\n",
    "\n"
   ]
  },
  {
   "cell_type": "code",
   "execution_count": 145,
   "id": "07faff00-be0f-4bb4-92c5-db0afc26eb22",
   "metadata": {
    "id": "bea983a3"
   },
   "outputs": [
    {
     "name": "stdout",
     "output_type": "stream",
     "text": [
      "{'a': 1, 'b': 2, 'c': 3, 'd': 4}\n"
     ]
    }
   ],
   "source": [
    "# Exercise 21\n",
    "dict1 = {\"a\": 1, \"b\": 2}\n",
    "dict2 = {\"c\": 3, \"d\": 4}\n",
    "print(dict1|dict2)\n"
   ]
  },
  {
   "cell_type": "markdown",
   "id": "eb866cf5-8264-43a0-b913-fa60401ad359",
   "metadata": {
    "id": "bea983a3"
   },
   "source": [
    "### ---\n",
    "\n",
    "### Exercise 22:\n",
    "Create a dictionary where keys are numbers from 1 to 5, and values are their squares."
   ]
  },
  {
   "cell_type": "code",
   "execution_count": 147,
   "id": "605f04ca-3e2d-4e53-b0e6-5c79ef301190",
   "metadata": {
    "id": "bea983a3"
   },
   "outputs": [
    {
     "data": {
      "text/plain": [
       "{1: 1, 2: 4, 3: 9, 4: 16, 5: 25}"
      ]
     },
     "execution_count": 147,
     "metadata": {},
     "output_type": "execute_result"
    }
   ],
   "source": [
    "# Exercise 22\n",
    "dict={1:1,2:4,3:9,4:16,5:25}\n",
    "dict"
   ]
  },
  {
   "cell_type": "code",
   "execution_count": null,
   "id": "6a9442c9-763f-4a6e-b5f5-a31447733f2e",
   "metadata": {
    "id": "bea983a3"
   },
   "outputs": [],
   "source": [
    "---\n",
    "\n",
    "### Exercise 23:\n",
    "Write a Python program to iterate through a dictionary and print each key-value pair."
   ]
  },
  {
   "cell_type": "code",
   "execution_count": 149,
   "id": "aec6efc3-fbe1-4d4b-a5d4-279603bb512e",
   "metadata": {
    "id": "bea983a3"
   },
   "outputs": [
    {
     "name": "stdout",
     "output_type": "stream",
     "text": [
      "Key: a, Value: 1\n",
      "Key: b, Value: 2\n",
      "Key: c, Value: 3\n"
     ]
    }
   ],
   "source": [
    "# Exercise 23\n",
    "my_dict = {'a': 1, 'b': 2, 'c': 3}\n",
    "for key, value in my_dict.items():\n",
    "    print(f\"Key: {key}, Value: {value}\")\n"
   ]
  },
  {
   "cell_type": "code",
   "execution_count": null,
   "id": "c69d1101-ae0c-4805-a83e-96eecdcf12b0",
   "metadata": {
    "id": "bea983a3"
   },
   "outputs": [],
   "source": [
    "---\n",
    "\n",
    "### Exercise 24:\n",
    "Create a list of the first 5 letters of the alphabet using the `chr()` function."
   ]
  },
  {
   "cell_type": "code",
   "execution_count": 2,
   "id": "4edb0f68-9197-4f7a-b87c-5ff53d972c2d",
   "metadata": {
    "id": "bea983a3"
   },
   "outputs": [
    {
     "name": "stdout",
     "output_type": "stream",
     "text": [
      "['A', 'B', 'C', 'D', 'E']\n"
     ]
    }
   ],
   "source": [
    "# Exercise 24\n",
    "letters = [chr(i) for i in range(65, 70)]\n",
    "print(letters)"
   ]
  },
  {
   "cell_type": "code",
   "execution_count": null,
   "id": "363e317e-f2eb-41c8-b0c5-5c6c9ad70d7f",
   "metadata": {
    "id": "bea983a3"
   },
   "outputs": [],
   "source": [
    "---\n",
    "\n",
    "### Exercise 25:\n",
    "Use the `zip()` function to combine two lists `[1, 2, 3]` and `[\"a\", \"b\", \"c\"]` into a list of tuples.\n",
    "\n",
    "```python"
   ]
  },
  {
   "cell_type": "code",
   "execution_count": 4,
   "id": "0efaab88-3616-4b6f-9e6e-805126a965f8",
   "metadata": {},
   "outputs": [
    {
     "name": "stdout",
     "output_type": "stream",
     "text": [
      "[(1, 'a'), (2, 'b'), (3, 'c')]\n"
     ]
    }
   ],
   "source": [
    "### Exercise 25:\n",
    "numbers = [1, 2, 3]\n",
    "letters = [\"a\", \"b\", \"c\"]\n",
    "combined = list(zip(numbers, letters))\n",
    "print(combined)"
   ]
  },
  {
   "cell_type": "code",
   "execution_count": null,
   "id": "4f8ccb73-f6bc-4c7f-940a-32dd72c9ad47",
   "metadata": {
    "id": "bea983a3"
   },
   "outputs": [],
   "source": [
    "### Exercise 26:\n",
    "Find the index of the value `50` in the list `[10, 20, 30, 40, 50]`.\n",
    "\n",
    "```python"
   ]
  },
  {
   "cell_type": "code",
   "execution_count": 8,
   "id": "81cdf399-f4b8-4090-9f6a-91fbbf612d8d",
   "metadata": {
    "id": "bea983a3"
   },
   "outputs": [
    {
     "data": {
      "text/plain": [
       "4"
      ]
     },
     "execution_count": 8,
     "metadata": {},
     "output_type": "execute_result"
    }
   ],
   "source": [
    "# Exercise 26\n",
    "numbers = [10, 20, 30, 40, 50]\n",
    "numbers.index(50)\n"
   ]
  },
  {
   "cell_type": "code",
   "execution_count": null,
   "id": "134a7e41-fd3a-496a-8dd6-9ae4da372149",
   "metadata": {
    "id": "bea983a3"
   },
   "outputs": [],
   "source": [
    "### Exercise 27:\n",
    "Sort the list `names = [\"Alice\", \"Bob\", \"Charlie\", \"David\"]` in alphabetical order.\n",
    "\n",
    "```python"
   ]
  },
  {
   "cell_type": "code",
   "execution_count": 10,
   "id": "8f97cd70-b014-4dfb-b16b-10f7b059f8e9",
   "metadata": {
    "id": "bea983a3"
   },
   "outputs": [
    {
     "name": "stdout",
     "output_type": "stream",
     "text": [
      "['Alice', 'Bob', 'Charlie', 'David']\n"
     ]
    }
   ],
   "source": [
    "# Exercise 27\n",
    "names = [\"Alice\", \"Bob\", \"Charlie\", \"David\"]\n",
    "names.sort()\n",
    "print(names)\n"
   ]
  },
  {
   "cell_type": "code",
   "execution_count": null,
   "id": "b8b97755-bc73-44a8-9719-b1a11efa09f2",
   "metadata": {
    "id": "bea983a3"
   },
   "outputs": [],
   "source": [
    "### Exercise 28:\n",
    "Write a Python function that takes a list of integers as input and returns the largest number.\n",
    "\n",
    "```python"
   ]
  },
  {
   "cell_type": "code",
   "execution_count": 12,
   "id": "a84e9c37-487d-4876-8d5c-45267576502d",
   "metadata": {
    "id": "bea983a3"
   },
   "outputs": [
    {
     "name": "stdout",
     "output_type": "stream",
     "text": [
      "99\n"
     ]
    }
   ],
   "source": [
    "# Exercise 28\n",
    "def plus_grand(liste):\n",
    "    return max(liste)\n",
    "print(plus_grand([10, 25, 7, 99, 42]))\n"
   ]
  },
  {
   "cell_type": "code",
   "execution_count": null,
   "id": "6a1a3b99-5a1d-4797-9019-2018f2cd759c",
   "metadata": {
    "id": "bea983a3"
   },
   "outputs": [],
   "source": [
    "### Exercise 29:\n",
    "Use the `count()` method to count how many times `\"apple\"` appears in the list `fruits = [\"apple\", \"banana\", \"apple\", \"orange\"]`.\n",
    "\n",
    "```python"
   ]
  },
  {
   "cell_type": "code",
   "execution_count": 14,
   "id": "c1db8aed-c195-4b19-9460-a07c6f2f0db9",
   "metadata": {
    "id": "bea983a3"
   },
   "outputs": [
    {
     "name": "stdout",
     "output_type": "stream",
     "text": [
      "2\n"
     ]
    }
   ],
   "source": [
    "# Exercise 29\n",
    "fruits = [\"apple\", \"banana\", \"apple\", \"orange\"]\n",
    "print(fruits.count(\"apple\"))\n"
   ]
  },
  {
   "cell_type": "code",
   "execution_count": null,
   "id": "5b8e898f-bfb1-4543-a211-45b0d2783904",
   "metadata": {
    "id": "bea983a3"
   },
   "outputs": [],
   "source": [
    "### Exercise 30:\n",
    "Create a dictionary `person` where keys are `\"name\"`, `\"age\"`, and `\"city\"`, and values are `\"Alice\"`, `25`, and `\"New York\"` respectively. Then access the value of the `\"city\"` key.\n",
    "\n",
    "```python"
   ]
  },
  {
   "cell_type": "code",
   "execution_count": 16,
   "id": "5f5bbb61-53e7-4bc3-ab0b-6fa4608733fc",
   "metadata": {
    "id": "bea983a3"
   },
   "outputs": [
    {
     "name": "stdout",
     "output_type": "stream",
     "text": [
      "New York\n"
     ]
    }
   ],
   "source": [
    "# Exercise 30\n",
    "person = {\"name\": \"Alice\", \"age\": 25, \"city\": \"New York\"}\n",
    "print(person[\"city\"])\n"
   ]
  },
  {
   "cell_type": "code",
   "execution_count": null,
   "id": "83fe465a-bd0a-417e-9b4a-b047d89ebab4",
   "metadata": {
    "id": "bea983a3"
   },
   "outputs": [],
   "source": [
    "### Exercise 31:\n",
    "Write a Python function that takes a list as input and returns a new list with all duplicates removed.\n",
    "\n",
    "```python"
   ]
  },
  {
   "cell_type": "code",
   "execution_count": 18,
   "id": "d00dfe8a-136e-429b-9acc-6e473b70916a",
   "metadata": {
    "id": "bea983a3"
   },
   "outputs": [
    {
     "name": "stdout",
     "output_type": "stream",
     "text": [
      "[1, 2, 3, 4, 5]\n"
     ]
    }
   ],
   "source": [
    "# Exercise 31\n",
    "def sans_doublons(liste):\n",
    "    return list(set(liste))\n",
    "print(sans_doublons([1, 2, 2, 3, 4, 4, 5]))\n"
   ]
  },
  {
   "cell_type": "code",
   "execution_count": null,
   "id": "e8329705-d61c-458a-86e6-15b7fabdc2b3",
   "metadata": {
    "id": "bea983a3"
   },
   "outputs": [],
   "source": [
    "### Exercise 32:\n",
    "Write a Python function that takes two lists and returns their intersection.\n",
    "\n",
    "```python"
   ]
  },
  {
   "cell_type": "code",
   "execution_count": 20,
   "id": "e7c5a892-4143-4f34-85ea-571a78a7b5e5",
   "metadata": {
    "id": "bea983a3"
   },
   "outputs": [
    {
     "name": "stdout",
     "output_type": "stream",
     "text": [
      "[3, 4]\n"
     ]
    }
   ],
   "source": [
    "# Exercise 32\n",
    "def intersection(l1, l2):\n",
    "    return list(set(l1) & set(l2))\n",
    "print(intersection([1, 2, 3, 4], [3, 4, 5, 6]))\n"
   ]
  },
  {
   "cell_type": "code",
   "execution_count": null,
   "id": "5fb7424e-616e-4e55-be6b-13826bab781c",
   "metadata": {
    "id": "bea983a3"
   },
   "outputs": [],
   "source": [
    "### Exercise 33:\n",
    "Create a generator that yields the squares of numbers from 1 to 10.\n",
    "\n",
    "```python"
   ]
  },
  {
   "cell_type": "code",
   "execution_count": 22,
   "id": "f2a67062-c7da-4c6e-bef3-f2704e1060f2",
   "metadata": {
    "id": "bea983a3"
   },
   "outputs": [
    {
     "name": "stdout",
     "output_type": "stream",
     "text": [
      "1\n",
      "4\n",
      "9\n",
      "16\n",
      "25\n",
      "36\n",
      "49\n",
      "64\n",
      "81\n",
      "100\n"
     ]
    }
   ],
   "source": [
    "# Exercise 33\n",
    "def carres():\n",
    "    for i in range(1, 11):\n",
    "        yield i**2\n",
    "for x in carres():\n",
    "    print(x)\n"
   ]
  },
  {
   "cell_type": "code",
   "execution_count": null,
   "id": "26c27cdf-0214-4213-83a2-63f2c6ef5253",
   "metadata": {
    "id": "bea983a3"
   },
   "outputs": [],
   "source": [
    "### Exercise 34:\n",
    "Write a Python function that takes a dictionary as input and returns the sum of all its values.\n",
    "\n",
    "```python"
   ]
  },
  {
   "cell_type": "code",
   "execution_count": 24,
   "id": "80ad7cb3-2bcc-470e-9868-9ba51860c1f7",
   "metadata": {
    "id": "bea983a3"
   },
   "outputs": [
    {
     "name": "stdout",
     "output_type": "stream",
     "text": [
      "60\n"
     ]
    }
   ],
   "source": [
    "# Exercise 34\n",
    "def somme_valeurs(dico):\n",
    "    return sum(dico.values())\n",
    "mon_dico = {\"a\": 10, \"b\": 20, \"c\": 30}\n",
    "print(somme_valeurs(mon_dico))\n"
   ]
  },
  {
   "cell_type": "code",
   "execution_count": null,
   "id": "9201fec2-b3dc-48eb-99c3-767e0d16c336",
   "metadata": {
    "id": "bea983a3"
   },
   "outputs": [],
   "source": [
    "### Exercise 35:\n",
    "Use the `sorted()` function to sort the list `[3, 1, 4, 1, 5, 9]` in ascending order.\n",
    "\n",
    "```python"
   ]
  },
  {
   "cell_type": "code",
   "execution_count": 26,
   "id": "6a569923-752c-4718-9554-1729cf73fe15",
   "metadata": {
    "id": "bea983a3"
   },
   "outputs": [
    {
     "name": "stdout",
     "output_type": "stream",
     "text": [
      "[1, 1, 3, 4, 5, 9]\n"
     ]
    }
   ],
   "source": [
    "# Exercise 35\n",
    "numbers = [3, 1, 4, 1, 5, 9]\n",
    "print(sorted(numbers))\n"
   ]
  },
  {
   "cell_type": "code",
   "execution_count": null,
   "id": "9b8ba396-7275-4532-a04f-18e7557c1cf4",
   "metadata": {
    "id": "bea983a3"
   },
   "outputs": [],
   "source": [
    "### Exercise 36:\n",
    "Write a Python function that takes a list of strings as input and returns the longest string.\n",
    "\n",
    "```python"
   ]
  },
  {
   "cell_type": "code",
   "execution_count": 28,
   "id": "0abf71f1-0582-4a78-9869-27cdb8c9e843",
   "metadata": {
    "id": "bea983a3"
   },
   "outputs": [
    {
     "name": "stdout",
     "output_type": "stream",
     "text": [
      "éléphant\n"
     ]
    }
   ],
   "source": [
    "# Exercise 36\n",
    "def plus_longue(liste):\n",
    "    return max(liste, key=len)\n",
    "mots = [\"chat\", \"éléphant\", \"lion\", \"girafe\"]\n",
    "print(plus_longue(mots))\n"
   ]
  },
  {
   "cell_type": "code",
   "execution_count": null,
   "id": "ed35a9dd-b13e-489d-9206-6097dedf7d52",
   "metadata": {
    "id": "bea983a3"
   },
   "outputs": [],
   "source": [
    "### Exercise 37:\n",
    "Check if all the elements in the list `[1, 2, 3, 4, 5]` are greater than 0 using the `all()` function.\n",
    "\n",
    "```python"
   ]
  },
  {
   "cell_type": "code",
   "execution_count": 32,
   "id": "b6e0e6aa-de28-4c90-a6bc-c3c74ff84ecf",
   "metadata": {
    "id": "bea983a3"
   },
   "outputs": [
    {
     "name": "stdout",
     "output_type": "stream",
     "text": [
      "True\n"
     ]
    }
   ],
   "source": [
    "# Exercise 37\n",
    "numbers = [1, 2, 3, 4, 5]\n",
    "resultat = True\n",
    "for n in numbers:\n",
    "    if n <= 0:\n",
    "        resultat = False\n",
    "        break\n",
    "\n",
    "print(resultat)\n"
   ]
  },
  {
   "cell_type": "code",
   "execution_count": null,
   "id": "28f9186b-7326-4124-a6df-9403e7de5c5b",
   "metadata": {
    "id": "bea983a3"
   },
   "outputs": [],
   "source": [
    "### Exercise 38:\n",
    "Create a list of tuples where each tuple contains a number and its square for numbers from 1 to 5.\n",
    "\n",
    "```python"
   ]
  },
  {
   "cell_type": "code",
   "execution_count": 34,
   "id": "1a412f33-05d9-41b9-9faf-e05c33c30dce",
   "metadata": {
    "id": "bea983a3"
   },
   "outputs": [
    {
     "name": "stdout",
     "output_type": "stream",
     "text": [
      "[(1, 1), (2, 4), (3, 9), (4, 16), (5, 25)]\n"
     ]
    }
   ],
   "source": [
    "# Exercise 38\n",
    "resultat = []\n",
    "for i in range(1, 6):\n",
    "    resultat.append((i, i**2))\n",
    "print(resultat)\n"
   ]
  },
  {
   "cell_type": "code",
   "execution_count": null,
   "id": "9ad50d6a-c8f5-4dc5-bac5-7e77e06b022f",
   "metadata": {
    "id": "bea983a3"
   },
   "outputs": [],
   "source": [
    "### Exercise 39:\n",
    "Write a Python function that takes a list of tuples and returns a list of the second elements from each tuple.\n",
    "\n",
    "```python"
   ]
  },
  {
   "cell_type": "code",
   "execution_count": 36,
   "id": "3bcefa19-22bf-47a8-903b-19e412ccdba4",
   "metadata": {
    "id": "bea983a3"
   },
   "outputs": [
    {
     "name": "stdout",
     "output_type": "stream",
     "text": [
      "['a', 'b', 'c']\n"
     ]
    }
   ],
   "source": [
    "# Exercise 39\n",
    "def deuxiemes_elements(liste):\n",
    "    result = []\n",
    "    for t in liste:\n",
    "        result.append(t[1])\n",
    "    return result\n",
    "tuples = [(1, \"a\"), (2, \"b\"), (3, \"c\")]\n",
    "print(deuxiemes_elements(tuples))\n"
   ]
  },
  {
   "cell_type": "code",
   "execution_count": null,
   "id": "a74084c4-831d-4f48-8402-e99d174f9310",
   "metadata": {
    "id": "bea983a3"
   },
   "outputs": [],
   "source": [
    "### Exercise 40:\n",
    "Write a Python function that flattens a list of lists into a single list.\n",
    "\n",
    "```python"
   ]
  },
  {
   "cell_type": "code",
   "execution_count": 38,
   "id": "e7e7f4ea-1062-4441-aae7-6da8aaeaf9cc",
   "metadata": {
    "id": "bea983a3"
   },
   "outputs": [
    {
     "name": "stdout",
     "output_type": "stream",
     "text": [
      "[1, 2, 3, 4, 5]\n"
     ]
    }
   ],
   "source": [
    "# Exercise 40\n",
    "def aplatir(liste_de_listes):\n",
    "    result = []\n",
    "    for sous_liste in liste_de_listes:\n",
    "        for element in sous_liste:\n",
    "            result.append(element)\n",
    "    return result\n",
    "liste = [[1, 2], [3, 4], [5]]\n",
    "print(aplatir(liste))\n"
   ]
  },
  {
   "cell_type": "code",
   "execution_count": null,
   "id": "a242276c-6e23-4ed1-940c-8c67fb698505",
   "metadata": {
    "id": "bea983a3"
   },
   "outputs": [],
   "source": [
    "### Exercise 41:\n",
    "Use the `enumerate()` function to iterate through the list `[\"apple\", \"banana\", \"cherry\"]` and print the index and value.\n",
    "\n",
    "```python"
   ]
  },
  {
   "cell_type": "code",
   "execution_count": 40,
   "id": "b8397a21-1fad-4927-b255-fc5e9ef0cfd5",
   "metadata": {
    "id": "bea983a3"
   },
   "outputs": [
    {
     "name": "stdout",
     "output_type": "stream",
     "text": [
      "0 apple\n",
      "1 banana\n",
      "2 cherry\n"
     ]
    }
   ],
   "source": [
    "# Exercise 41\n",
    "fruits = [\"apple\", \"banana\", \"cherry\"]\n",
    "for index, fruit in enumerate(fruits):\n",
    "    print(index, fruit)\n"
   ]
  },
  {
   "cell_type": "code",
   "execution_count": null,
   "id": "0c3d0d1b-8e6e-4537-821c-6d1f7cd49bbe",
   "metadata": {
    "id": "bea983a3"
   },
   "outputs": [],
   "source": [
    "### Exercise 42:\n",
    "Write a Python program that checks if a tuple is empty.\n",
    "\n",
    "```python"
   ]
  },
  {
   "cell_type": "code",
   "execution_count": 42,
   "id": "eefbcd9f-5923-445b-ba68-e5ccc68ceb4b",
   "metadata": {
    "id": "bea983a3"
   },
   "outputs": [
    {
     "name": "stdout",
     "output_type": "stream",
     "text": [
      "La tuple est vide\n"
     ]
    }
   ],
   "source": [
    "# Exercise 42\n",
    "ma_tuple = ()\n",
    "if len(ma_tuple) == 0:\n",
    "    print(\"La tuple est vide\")\n",
    "else:\n",
    "    print(\"La tuple n'est pas vide\")\n"
   ]
  },
  {
   "cell_type": "code",
   "execution_count": null,
   "id": "7252827a-5ef8-4c0c-8d31-9d77a93ddc0c",
   "metadata": {
    "id": "bea983a3"
   },
   "outputs": [],
   "source": [
    "### Exercise 43:\n",
    "Create a list of even numbers between 1 and 20 using the `range()` function.\n",
    "\n",
    "```python"
   ]
  },
  {
   "cell_type": "code",
   "execution_count": 46,
   "id": "a5b6be26-8d90-4a76-856a-d8f1f686bbfe",
   "metadata": {
    "id": "bea983a3"
   },
   "outputs": [
    {
     "name": "stdout",
     "output_type": "stream",
     "text": [
      "[2, 4, 6, 8, 10, 12, 14, 16, 18, 20]\n"
     ]
    }
   ],
   "source": [
    "# Exercise 43\n",
    "pairs = []\n",
    "for i in range(1, 21):\n",
    "    if i % 2 == 0:\n",
    "        pairs.append(i)\n",
    "print(pairs)\n"
   ]
  },
  {
   "cell_type": "code",
   "execution_count": null,
   "id": "6ccbf35c-b55c-4cb0-892c-a48acc6abb16",
   "metadata": {
    "id": "bea983a3"
   },
   "outputs": [],
   "source": [
    "### Exercise 44:\n",
    "Write a Python function that takes a list of numbers as input and returns the list in reverse order.\n",
    "\n",
    "```python"
   ]
  },
  {
   "cell_type": "code",
   "execution_count": 48,
   "id": "64bbc7c5-f4f4-41ba-9b62-f44cf077c188",
   "metadata": {
    "id": "bea983a3"
   },
   "outputs": [
    {
     "name": "stdout",
     "output_type": "stream",
     "text": [
      "[5, 4, 3, 2, 1]\n"
     ]
    }
   ],
   "source": [
    "# Exercise 44\n",
    "def inverser_liste(liste):\n",
    "    resultat = []\n",
    "    for i in range(len(liste)-1, -1, -1):\n",
    "        resultat.append(liste[i])\n",
    "    return resultat\n",
    "\n",
    "nombres = [1, 2, 3, 4, 5]\n",
    "print(inverser_liste(nombres))\n"
   ]
  },
  {
   "cell_type": "code",
   "execution_count": null,
   "id": "88da8724-4827-439b-8fa9-11a0c86c82de",
   "metadata": {
    "id": "bea983a3"
   },
   "outputs": [],
   "source": [
    "### Exercise 45:\n",
    "Create a dictionary comprehension that maps numbers from 1 to 5 to their cubes.\n",
    "\n",
    "```"
   ]
  },
  {
   "cell_type": "code",
   "execution_count": 50,
   "id": "61628693-6a56-4d66-8014-c6306e319ea4",
   "metadata": {
    "id": "bea983a3"
   },
   "outputs": [
    {
     "name": "stdout",
     "output_type": "stream",
     "text": [
      "{1: 1, 2: 8, 3: 27, 4: 64, 5: 125}\n"
     ]
    }
   ],
   "source": [
    "# Exercise 45\n",
    "cubes = {}\n",
    "\n",
    "for i in range(1, 6):\n",
    "    cubes[i] = i**3\n",
    "\n",
    "print(cubes)\n"
   ]
  },
  {
   "cell_type": "code",
   "execution_count": null,
   "id": "0ca4bdb2-7f44-4112-b6ef-be5bbf9168f6",
   "metadata": {
    "id": "bea983a3"
   },
   "outputs": [],
   "source": [
    "### Exercise 46:\n",
    "Write a Python program that creates a new list containing only the unique elements of the list `[1, 2, 2, 3, 4, 4, 5]`.\n",
    "\n",
    "```python"
   ]
  },
  {
   "cell_type": "code",
   "execution_count": 54,
   "id": "5e3620ab-523f-4957-82c7-cc632a294b46",
   "metadata": {
    "id": "bea983a3"
   },
   "outputs": [
    {
     "name": "stdout",
     "output_type": "stream",
     "text": [
      "[1, 2, 3, 4, 5]\n"
     ]
    }
   ],
   "source": [
    "# Exercise 46\n",
    "liste = [1, 2, 2, 3, 4, 4, 5]\n",
    "unique = []\n",
    "for element in liste:\n",
    "    if element not in unique:\n",
    "        unique.append(element)\n",
    "print(unique)\n"
   ]
  },
  {
   "cell_type": "code",
   "execution_count": null,
   "id": "c5d9f570-0eb2-4bbf-9fb8-a8a538315219",
   "metadata": {
    "id": "bea983a3"
   },
   "outputs": [],
   "source": [
    "### Exercise 47:\n",
    "Write a Python function that takes a list of dictionaries and returns a list of the values for a given key.\n",
    "\n",
    "```python"
   ]
  },
  {
   "cell_type": "code",
   "execution_count": 58,
   "id": "9b124b75-57a1-4770-a959-db001fc24f20",
   "metadata": {
    "id": "bea983a3"
   },
   "outputs": [
    {
     "name": "stdout",
     "output_type": "stream",
     "text": [
      "['Alice', 'Bob', 'Charlie']\n"
     ]
    }
   ],
   "source": [
    "# Exercise 47\n",
    "def extraire_valeurs(liste_dicts, cle):\n",
    "    result = []\n",
    "    for d in liste_dicts:\n",
    "        if cle in d:\n",
    "            result.append(d[cle])\n",
    "    return result\n",
    "\n",
    "dicos = [{\"nom\": \"Alice\", \"age\": 25}, {\"nom\": \"Bob\", \"age\": 30}, {\"nom\": \"Charlie\", \"age\": 35}]\n",
    "print(extraire_valeurs(dicos, \"nom\"))\n"
   ]
  },
  {
   "cell_type": "code",
   "execution_count": null,
   "id": "bfc080f6-40a9-40a6-8907-e445697f9703",
   "metadata": {
    "id": "bea983a3"
   },
   "outputs": [],
   "source": [
    "---\n",
    "\n",
    "### Exercise 48:\n",
    "Write a Python function that uses a generator to yield the Fibonacci sequence up to `n` terms.\n",
    "\n",
    "```python"
   ]
  },
  {
   "cell_type": "code",
   "execution_count": 60,
   "id": "b04247c5-8fb8-4130-8c02-466513a5d434",
   "metadata": {
    "id": "bea983a3"
   },
   "outputs": [
    {
     "name": "stdout",
     "output_type": "stream",
     "text": [
      "0\n",
      "1\n",
      "1\n",
      "2\n",
      "3\n",
      "5\n",
      "8\n",
      "13\n",
      "21\n",
      "34\n"
     ]
    }
   ],
   "source": [
    "# Exercise 48\n",
    "def fibonacci(n):\n",
    "    a, b = 0, 1\n",
    "    compteur = 0\n",
    "    while compteur < n:\n",
    "        yield a\n",
    "        a, b = b, a + b\n",
    "        compteur += 1\n",
    "\n",
    "for nombre in fibonacci(10):\n",
    "    print(nombre)\n"
   ]
  },
  {
   "cell_type": "code",
   "execution_count": null,
   "id": "1bcefe3b-3000-45d4-b9e9-2e640cce6799",
   "metadata": {
    "id": "bea983a3"
   },
   "outputs": [],
   "source": [
    "---\n",
    "\n",
    "### Exercise 49:\n",
    "Write a Python function that takes a string and returns a list of all unique characters in the string.\n",
    "\n",
    "```python"
   ]
  },
  {
   "cell_type": "code",
   "execution_count": 64,
   "id": "446ef4bf-0861-4432-b3cb-c0a2d79e5935",
   "metadata": {
    "id": "bea983a3"
   },
   "outputs": [
    {
     "name": "stdout",
     "output_type": "stream",
     "text": [
      "['a', 'c', 'd']\n"
     ]
    }
   ],
   "source": [
    "# Exercise 49\n",
    "def caracteres_uniques(texte):\n",
    "    uniques = []\n",
    "    for c in texte:\n",
    "        if c not in uniques:\n",
    "            uniques.append(c)\n",
    "    return uniques\n",
    "\n",
    "chaine = \"aaaaaaaaaaaccccccccd\"\n",
    "print(caracteres_uniques(chaine))\n"
   ]
  },
  {
   "cell_type": "code",
   "execution_count": null,
   "id": "db01d7e7-d316-4e1f-a7c1-88870348cd7d",
   "metadata": {
    "id": "bea983a3"
   },
   "outputs": [],
   "source": [
    "### Exercise 50:\n",
    "Write a Python function that merges two sorted lists into a single sorted list.\n",
    "\n",
    "```python"
   ]
  },
  {
   "cell_type": "code",
   "execution_count": 68,
   "id": "37925fef-2ade-4f1c-9bcc-1abe60229f4e",
   "metadata": {
    "id": "bea983a3"
   },
   "outputs": [
    {
     "name": "stdout",
     "output_type": "stream",
     "text": [
      "[1, 2, 3, 4, 5, 6]\n"
     ]
    }
   ],
   "source": [
    "# Exercise 50\n",
    "def fusion(l1, l2):\n",
    "    result = []\n",
    "    i = 0\n",
    "    j = 0\n",
    "    \n",
    "    while i < len(l1) and j < len(l2):\n",
    "        if l1[i] < l2[j]:\n",
    "            result.append(l1[i])\n",
    "            i += 1\n",
    "        else:\n",
    "            result.append(l2[j])\n",
    "            j += 1\n",
    " \n",
    "    while i < len(l1):\n",
    "        result.append(l1[i])\n",
    "        i += 1\n",
    "    while j < len(l2):\n",
    "        result.append(l2[j])\n",
    "        j += 1\n",
    "    \n",
    "    return result\n",
    "liste1 = [1, 3, 5]\n",
    "liste2 = [2, 4, 6]\n",
    "print(fusion(liste1, liste2))\n"
   ]
  },
  {
   "cell_type": "code",
   "execution_count": null,
   "id": "f28a3072-eed4-4c23-bc19-f2b303993dab",
   "metadata": {
    "id": "bea983a3"
   },
   "outputs": [],
   "source": [
    "### Exercise 51:\n",
    "Use the\n",
    "\n",
    " `filter()` function to filter out odd numbers from the list `[1, 2, 3, 4, 5, 6]`.\n",
    "\n",
    "```python"
   ]
  },
  {
   "cell_type": "code",
   "execution_count": 70,
   "id": "c4cb2a75-f52b-4489-8ed8-00d5c860856e",
   "metadata": {
    "id": "bea983a3"
   },
   "outputs": [
    {
     "name": "stdout",
     "output_type": "stream",
     "text": [
      "[2, 4, 6]\n"
     ]
    }
   ],
   "source": [
    "# Exercise 51\n",
    "nombres = [1, 2, 3, 4, 5, 6]\n",
    "pairs = list(filter(lambda x: x % 2 == 0, nombres))\n",
    "print(pairs)\n"
   ]
  },
  {
   "cell_type": "code",
   "execution_count": null,
   "id": "6cede40f-604d-4b1c-b514-8d955e85383f",
   "metadata": {
    "id": "bea983a3"
   },
   "outputs": [],
   "source": [
    "### Exercise 52:\n",
    "Write a Python program that converts a list of tuples `[(1, 2), (3, 4), (5, 6)]` into a dictionary.\n",
    "\n",
    "```python"
   ]
  },
  {
   "cell_type": "code",
   "execution_count": 72,
   "id": "3a270706-7f44-4fc0-be13-1a9b73b88562",
   "metadata": {
    "id": "bea983a3"
   },
   "outputs": [
    {
     "name": "stdout",
     "output_type": "stream",
     "text": [
      "{1: 2, 3: 4, 5: 6}\n"
     ]
    }
   ],
   "source": [
    "# Exercise 52\n",
    "liste_tuples = [(1, 2), (3, 4), (5, 6)]\n",
    "mon_dico = {}\n",
    "for t in liste_tuples:\n",
    "    mon_dico[t[0]] = t[1]\n",
    "\n",
    "print(mon_dico)\n"
   ]
  },
  {
   "cell_type": "code",
   "execution_count": null,
   "id": "cbb54650-5d71-42d5-a227-f3110dd3a8d0",
   "metadata": {
    "id": "bea983a3"
   },
   "outputs": [],
   "source": [
    "### Exercise 53:\n",
    "Write a Python function that takes two sets and returns their symmetric difference.\n",
    "\n",
    "```python"
   ]
  },
  {
   "cell_type": "code",
   "execution_count": 74,
   "id": "2ee9a86e-0d9a-4dee-9b9e-041821eb3f05",
   "metadata": {
    "id": "bea983a3"
   },
   "outputs": [
    {
     "name": "stdout",
     "output_type": "stream",
     "text": [
      "{1, 4}\n"
     ]
    }
   ],
   "source": [
    "# Exercise 53\n",
    "def difference_symetrique(s1, s2):\n",
    "    return s1.symmetric_difference(s2)\n",
    "\n",
    "ensemble1 = {1, 2, 3}\n",
    "ensemble2 = {2, 3, 4}\n",
    "print(difference_symetrique(ensemble1, ensemble2))\n"
   ]
  },
  {
   "cell_type": "code",
   "execution_count": null,
   "id": "d0fa2d88-67b3-49ce-bfb9-6faac567a546",
   "metadata": {
    "id": "bea983a3"
   },
   "outputs": [],
   "source": [
    "### Exercise 54:\n",
    "Write a Python program that finds the common elements in three lists `list1`, `list2`, and `list3`.\n",
    "\n",
    "```python"
   ]
  },
  {
   "cell_type": "code",
   "execution_count": 76,
   "id": "11e87d67-b8b2-49ae-89d6-6df7b73e4da2",
   "metadata": {
    "id": "bea983a3"
   },
   "outputs": [
    {
     "name": "stdout",
     "output_type": "stream",
     "text": [
      "[4]\n"
     ]
    }
   ],
   "source": [
    "# Exercise 54\n",
    "list1 = [1, 2, 3, 4]\n",
    "list2 = [3, 4, 5, 6]\n",
    "list3 = [4, 5, 6, 7]\n",
    "communs = []\n",
    "for element in list1:\n",
    "    if element in list2 and element in list3:\n",
    "        communs.append(element)\n",
    "\n",
    "print(communs)\n"
   ]
  },
  {
   "cell_type": "code",
   "execution_count": null,
   "id": "9d0deec6-4377-41d6-94ec-e228b1be1fcd",
   "metadata": {
    "id": "bea983a3"
   },
   "outputs": [],
   "source": [
    "### Exercise 55:\n",
    "Write a Python function that returns the factorial of a number using recursion.\n",
    "\n",
    "```python"
   ]
  },
  {
   "cell_type": "code",
   "execution_count": 78,
   "id": "61ea492b-835c-4c53-9734-df56c2294976",
   "metadata": {
    "id": "bea983a3"
   },
   "outputs": [
    {
     "name": "stdout",
     "output_type": "stream",
     "text": [
      "120\n"
     ]
    }
   ],
   "source": [
    "# Exercise 55\n",
    "def factorielle(n):\n",
    "    if n == 0 or n == 1:\n",
    "        return 1\n",
    "    else:\n",
    "        return n * factorielle(n - 1)\n",
    "\n",
    "print(factorielle(5))\n"
   ]
  },
  {
   "cell_type": "code",
   "execution_count": null,
   "id": "d2e33868-d9b4-45d2-a0b9-62206f6d2b04",
   "metadata": {
    "id": "bea983a3"
   },
   "outputs": [],
   "source": [
    "### Exercise 56:\n",
    "Write a Python program that removes all empty strings from the list `[\"apple\", \"\", \"banana\", \"\", \"cherry\"]`.\n",
    "\n",
    "```python"
   ]
  },
  {
   "cell_type": "code",
   "execution_count": 80,
   "id": "42be571f-1cba-476f-ab1f-e8ed8e93b5ee",
   "metadata": {
    "id": "bea983a3"
   },
   "outputs": [
    {
     "name": "stdout",
     "output_type": "stream",
     "text": [
      "['apple', 'banana', 'cherry']\n"
     ]
    }
   ],
   "source": [
    "# Exercise 56\n",
    "fruits = [\"apple\", \"\", \"banana\", \"\", \"cherry\"]\n",
    "resultat = []\n",
    "\n",
    "for fruit in fruits:\n",
    "    if fruit != \"\":\n",
    "        resultat.append(fruit)\n",
    "\n",
    "print(resultat)\n"
   ]
  },
  {
   "cell_type": "code",
   "execution_count": null,
   "id": "d7fd4848-d577-4776-b639-862d3dd6725a",
   "metadata": {
    "id": "bea983a3"
   },
   "outputs": [],
   "source": [
    "### Exercise 57:\n",
    "Write a Python function that takes a dictionary and returns a new dictionary with the keys and values swapped.\n",
    "\n",
    "```python"
   ]
  },
  {
   "cell_type": "code",
   "execution_count": 82,
   "id": "4e0b2c96-8734-4e38-9cbf-4078f37235f7",
   "metadata": {
    "id": "bea983a3"
   },
   "outputs": [
    {
     "name": "stdout",
     "output_type": "stream",
     "text": [
      "{1: 'a', 2: 'b', 3: 'c'}\n"
     ]
    }
   ],
   "source": [
    "# Exercise 57\n",
    "def inverser_dico(dico):\n",
    "    nouveau = {}\n",
    "    for cle, valeur in dico.items():\n",
    "        nouveau[valeur] = cle\n",
    "    return nouveau\n",
    "\n",
    "mon_dico = {\"a\": 1, \"b\": 2, \"c\": 3}\n",
    "print(inverser_dico(mon_dico))\n"
   ]
  },
  {
   "cell_type": "code",
   "execution_count": null,
   "id": "06ad6b1f-ba0f-4180-8034-36889a34604d",
   "metadata": {
    "id": "bea983a3"
   },
   "outputs": [],
   "source": [
    "### Exercise 58:\n",
    "Write a Python function that takes a list of integers and returns a new list with only the even numbers.\n",
    "\n",
    "```python"
   ]
  },
  {
   "cell_type": "code",
   "execution_count": 84,
   "id": "7b5ebb47-bf33-49e6-b960-abaebdff201a",
   "metadata": {
    "id": "bea983a3"
   },
   "outputs": [
    {
     "name": "stdout",
     "output_type": "stream",
     "text": [
      "[2, 4, 6]\n"
     ]
    }
   ],
   "source": [
    "# Exercise 58\n",
    "def pairs(liste):\n",
    "    result = []\n",
    "    for n in liste:\n",
    "        if n % 2 == 0:\n",
    "            result.append(n)\n",
    "    return result\n",
    "\n",
    "# Exemple\n",
    "nombres = [1, 2, 3, 4, 5, 6]\n",
    "print(pairs(nombres))\n"
   ]
  },
  {
   "cell_type": "code",
   "execution_count": null,
   "id": "fee396a7-6339-47ec-a336-74c3a41c1768",
   "metadata": {
    "id": "bea983a3"
   },
   "outputs": [],
   "source": [
    "### Exercise 59:\n",
    "Write a Python function that takes a list of tuples and returns a list of the first elements of each tuple.\n",
    "\n",
    "```python"
   ]
  },
  {
   "cell_type": "code",
   "execution_count": 86,
   "id": "7bfe002e-8f21-40fa-9cf9-1e493ba2b344",
   "metadata": {
    "id": "bea983a3"
   },
   "outputs": [
    {
     "name": "stdout",
     "output_type": "stream",
     "text": [
      "[1, 2, 3]\n"
     ]
    }
   ],
   "source": [
    "# Exercise 59\n",
    "def premiers_elements(liste):\n",
    "    result = []\n",
    "    for t in liste:\n",
    "        result.append(t[0])\n",
    "    return result\n",
    "\n",
    "tuples = [(1, \"a\"), (2, \"b\"), (3, \"c\")]\n",
    "print(premiers_elements(tuples))\n"
   ]
  },
  {
   "cell_type": "code",
   "execution_count": null,
   "id": "758c2e52-a9e6-4cc0-b27d-5d7e74b21c0c",
   "metadata": {
    "id": "bea983a3"
   },
   "outputs": [],
   "source": [
    "### Exercise 60:\n",
    "Write a Python program that removes duplicates from a list without changing the order of elements.\n",
    "\n",
    "```python"
   ]
  },
  {
   "cell_type": "code",
   "execution_count": 88,
   "id": "ca48331a-ccf1-4875-a3b9-f7688b229bc0",
   "metadata": {
    "id": "bea983a3"
   },
   "outputs": [
    {
     "name": "stdout",
     "output_type": "stream",
     "text": [
      "[1, 2, 3, 4, 5]\n"
     ]
    }
   ],
   "source": [
    "# Exercise 60\n",
    "liste = [1, 2, 2, 3, 4, 4, 5]\n",
    "unique = []\n",
    "for element in liste:\n",
    "    if element not in unique:\n",
    "        unique.append(element)\n",
    "\n",
    "print(unique)\n"
   ]
  },
  {
   "cell_type": "code",
   "execution_count": null,
   "id": "8395aa6e-58e2-47f8-aa33-fffc839f8efb",
   "metadata": {
    "id": "bea983a3"
   },
   "outputs": [],
   "source": [
    "### Exercise 61:\n",
    "Use the `map()` function to convert a list of strings to a list of their lengths.\n",
    "\n",
    "```python"
   ]
  },
  {
   "cell_type": "code",
   "execution_count": 90,
   "id": "2576c929-2320-4237-8780-71756c43fc1f",
   "metadata": {
    "id": "bea983a3"
   },
   "outputs": [
    {
     "name": "stdout",
     "output_type": "stream",
     "text": [
      "[5, 6, 6]\n"
     ]
    }
   ],
   "source": [
    "# Exercise 61\n",
    "mots = [\"apple\", \"banana\", \"cherry\"]\n",
    "longueurs = list(map(len, mots))\n",
    "print(longueurs)\n"
   ]
  },
  {
   "cell_type": "code",
   "execution_count": null,
   "id": "bf4a52e5-4e61-4a88-a8f7-de29fc7b1545",
   "metadata": {
    "id": "bea983a3"
   },
   "outputs": [],
   "source": [
    "### Exercise 62:\n",
    "Write a Python program that calculates the average of a list of numbers.\n",
    "\n",
    "```python"
   ]
  },
  {
   "cell_type": "code",
   "execution_count": 92,
   "id": "be733bbc-4bc8-4633-a7c6-a4b07c723962",
   "metadata": {
    "id": "bea983a3"
   },
   "outputs": [
    {
     "name": "stdout",
     "output_type": "stream",
     "text": [
      "30.0\n"
     ]
    }
   ],
   "source": [
    "# Exercise 62\n",
    "nombres = [10, 20, 30, 40, 50]\n",
    "somme = 0\n",
    "for n in nombres:\n",
    "    somme += n\n",
    "moyenne = somme / len(nombres)\n",
    "print(moyenne)\n"
   ]
  },
  {
   "cell_type": "code",
   "execution_count": null,
   "id": "9d4559a4-497d-47fd-a7a1-54faf69cdcbf",
   "metadata": {
    "id": "bea983a3"
   },
   "outputs": [],
   "source": [
    "### Exercise 63:\n",
    "Write a Python function that generates a list of the first `n` Fibonacci numbers.\n",
    "\n",
    "```python"
   ]
  },
  {
   "cell_type": "code",
   "execution_count": 94,
   "id": "0d6ce23f-7c2b-4678-8923-fbc845e5e9d1",
   "metadata": {
    "id": "bea983a3"
   },
   "outputs": [
    {
     "name": "stdout",
     "output_type": "stream",
     "text": [
      "[0, 1, 1, 2, 3, 5, 8, 13, 21, 34]\n"
     ]
    }
   ],
   "source": [
    "# Exercise 63\n",
    "def fibonacci(n):\n",
    "    result = []\n",
    "    a, b = 0, 1\n",
    "    for _ in range(n):\n",
    "        result.append(a)\n",
    "        a, b = b, a + b\n",
    "    return result\n",
    "\n",
    "print(fibonacci(10))\n"
   ]
  },
  {
   "cell_type": "code",
   "execution_count": null,
   "id": "a1f5c4bb-7a15-4ce6-b44c-6c5eafd6aa68",
   "metadata": {
    "id": "bea983a3"
   },
   "outputs": [],
   "source": [
    "### Exercise 64:\n",
    "Write a Python program that counts how many times each element appears in the list `[\"apple\", \"banana\", \"apple\", \"cherry\"]`.\n",
    "\n",
    "```python"
   ]
  },
  {
   "cell_type": "code",
   "execution_count": 100,
   "id": "430b69fa-d53b-42b9-81bd-7164db5374d9",
   "metadata": {
    "id": "bea983a3"
   },
   "outputs": [
    {
     "name": "stdout",
     "output_type": "stream",
     "text": [
      "{'apple': 2, 'banana': 1, 'cherry': 1}\n"
     ]
    }
   ],
   "source": [
    "# Exercise 64\n",
    "fruits = [\"apple\", \"banana\", \"apple\", \"cherry\"]\n",
    "compteur = {}\n",
    "for fruit in fruits:\n",
    "    if fruit in compteur:\n",
    "        compteur[fruit] += 1\n",
    "    else:\n",
    "        compteur[fruit] = 1\n",
    "        \n",
    "print(compteur)\n"
   ]
  },
  {
   "cell_type": "code",
   "execution_count": null,
   "id": "c2e89e08-68fc-44ff-bfb8-3562a8397275",
   "metadata": {
    "id": "bea983a3"
   },
   "outputs": [],
   "source": [
    "### Exercise 65:\n",
    "Write a Python program that removes all occurrences of a specific value from a list.\n",
    "\n",
    "```python"
   ]
  },
  {
   "cell_type": "code",
   "execution_count": 102,
   "id": "ef2e62de-6735-4805-a593-df1936513c17",
   "metadata": {
    "id": "bea983a3"
   },
   "outputs": [
    {
     "name": "stdout",
     "output_type": "stream",
     "text": [
      "[1, 3, 4, 5]\n"
     ]
    }
   ],
   "source": [
    "# Exercise 65\n",
    "liste = [1, 2, 3, 2, 4, 2, 5]\n",
    "valeur_a_supprimer = 2\n",
    "resultat = []\n",
    "\n",
    "for element in liste:\n",
    "    if element != valeur_a_supprimer:\n",
    "        resultat.append(element)\n",
    "\n",
    "print(resultat)\n"
   ]
  },
  {
   "cell_type": "code",
   "execution_count": null,
   "id": "c5a4973e-672e-44b7-ad7e-68607b01f180",
   "metadata": {
    "id": "bea983a3"
   },
   "outputs": [],
   "source": [
    "### Exercise 66:\n",
    "Write a Python function that takes a list of strings and returns a list of the strings that start with a vowel.\n",
    "\n",
    "```python"
   ]
  },
  {
   "cell_type": "code",
   "execution_count": 104,
   "id": "96742f75-004c-4636-83c4-427e72a580b9",
   "metadata": {
    "id": "bea983a3"
   },
   "outputs": [
    {
     "name": "stdout",
     "output_type": "stream",
     "text": [
      "['apple', 'orange', 'umbrella']\n"
     ]
    }
   ],
   "source": [
    "# Exercise 66\n",
    "def voyelle(liste):\n",
    "    result = []\n",
    "    voyelles = \"aeiouAEIOU\"\n",
    "    for mot in liste:\n",
    "        if mot[0] in voyelles:\n",
    "            result.append(mot)\n",
    "    return result\n",
    "\n",
    "mots = [\"apple\", \"banana\", \"orange\", \"grape\", \"umbrella\"]\n",
    "print(voyelle(mots))\n"
   ]
  },
  {
   "cell_type": "code",
   "execution_count": null,
   "id": "cd93f010-533e-4995-89e7-92ff6a55fbe3",
   "metadata": {
    "id": "bea983a3"
   },
   "outputs": [],
   "source": [
    "### Exercise 67:\n",
    "Write a Python program that finds the intersection of two sets `set1` and `set2`.\n",
    "\n",
    "```python"
   ]
  },
  {
   "cell_type": "code",
   "execution_count": 106,
   "id": "b3ef4b34-aeeb-429b-837b-cba6db134d32",
   "metadata": {
    "id": "bea983a3"
   },
   "outputs": [
    {
     "name": "stdout",
     "output_type": "stream",
     "text": [
      "{3, 4}\n"
     ]
    }
   ],
   "source": [
    "# Exercise 67\n",
    "set1 = {1, 2, 3, 4}\n",
    "set2 = {3, 4, 5, 6}\n",
    "\n",
    "intersection = set1 & set2 \n",
    "print(intersection)\n"
   ]
  },
  {
   "cell_type": "code",
   "execution_count": null,
   "id": "9495ab30-1e3d-4555-8ab8-ec3f8a22cb0b",
   "metadata": {
    "id": "bea983a3"
   },
   "outputs": [],
   "source": [
    "### Exercise 68:\n",
    "Write a Python function that flattens a nested list.\n",
    "\n",
    "```python"
   ]
  },
  {
   "cell_type": "code",
   "execution_count": 108,
   "id": "50b8808b-85c3-4ade-b141-6d1d7af1b6fd",
   "metadata": {
    "id": "bea983a3"
   },
   "outputs": [
    {
     "name": "stdout",
     "output_type": "stream",
     "text": [
      "[1, 2, 3, 4, 5]\n"
     ]
    }
   ],
   "source": [
    "# Exercise 68\n",
    "def aplatir(liste_nest):\n",
    "    result = []\n",
    "    for sous_liste in liste_nest:\n",
    "        for element in sous_liste:\n",
    "            result.append(element)\n",
    "    return result\n",
    "\n",
    "liste = [[1, 2], [3, 4], [5]]\n",
    "print(aplatir(liste))\n"
   ]
  },
  {
   "cell_type": "code",
   "execution_count": null,
   "id": "bc617759-9d2c-4221-8a0e-a187a0ebe1b2",
   "metadata": {
    "id": "bea983a3"
   },
   "outputs": [],
   "source": [
    "### Exercise 69:\n",
    "Write a Python program that checks if all the elements in a list are unique.\n",
    "\n",
    "```python"
   ]
  },
  {
   "cell_type": "code",
   "execution_count": 110,
   "id": "acc608c0-0361-4eed-b84a-05d1ae030fce",
   "metadata": {
    "id": "bea983a3"
   },
   "outputs": [
    {
     "name": "stdout",
     "output_type": "stream",
     "text": [
      "True\n"
     ]
    }
   ],
   "source": [
    "# Exercise 69\n",
    "liste = [1, 2, 3, 4, 5]\n",
    "unique = True\n",
    "\n",
    "for i in range(len(liste)):\n",
    "    for j in range(i + 1, len(liste)):\n",
    "        if liste[i] == liste[j]:\n",
    "            unique = False\n",
    "            break\n",
    "\n",
    "print(unique)\n"
   ]
  },
  {
   "cell_type": "code",
   "execution_count": null,
   "id": "4d7016a1-6efe-4e06-b075-bd17b325ca06",
   "metadata": {
    "id": "bea983a3"
   },
   "outputs": [],
   "source": [
    "### Exercise 70:\n",
    "Use the `reduce()` function from the `functools` module to multiply all elements in a list.\n",
    "\n",
    "```python"
   ]
  },
  {
   "cell_type": "code",
   "execution_count": 114,
   "id": "b1219030-c6b3-4de3-aafb-cb2c6d307148",
   "metadata": {
    "id": "bea983a3"
   },
   "outputs": [
    {
     "name": "stdout",
     "output_type": "stream",
     "text": [
      "120\n"
     ]
    }
   ],
   "source": [
    "# Exercise 70\n",
    "from functools import reduce\n",
    "\n",
    "nombres = [1, 2, 3, 4, 5]\n",
    "resultat = reduce(lambda x, y: x * y, nombres)\n",
    "print(resultat)\n"
   ]
  },
  {
   "cell_type": "code",
   "execution_count": null,
   "id": "8bf0cbf0-4839-4f4f-8098-45782b3e82ce",
   "metadata": {
    "id": "bea983a3"
   },
   "outputs": [],
   "source": [
    "### Exercise 71:\n",
    "Write a Python function that takes a list of strings and returns a dictionary where keys are strings and values are their lengths.\n",
    "\n",
    "```python"
   ]
  },
  {
   "cell_type": "code",
   "execution_count": 116,
   "id": "c0ead0a6-be0b-48a4-9688-9069438a4cd9",
   "metadata": {
    "id": "bea983a3"
   },
   "outputs": [
    {
     "name": "stdout",
     "output_type": "stream",
     "text": [
      "{'apple': 5, 'banana': 6, 'cherry': 6}\n"
     ]
    }
   ],
   "source": [
    "# Exercise 71\n",
    "def longueurs(mots):\n",
    "    dico = {}\n",
    "    for mot in mots:\n",
    "        dico[mot] = len(mot)\n",
    "    return dico\n",
    "\n",
    "liste = [\"apple\", \"banana\", \"cherry\"]\n",
    "print(longueurs(liste))\n"
   ]
  },
  {
   "cell_type": "code",
   "execution_count": null,
   "id": "61ba42a8-c4fb-4327-a25a-8ea849d6973d",
   "metadata": {
    "id": "bea983a3"
   },
   "outputs": [],
   "source": [
    "### Exercise 72:\n",
    "Write a Python program that counts the number of vowels in a string.\n",
    "\n",
    "```python\n",
    "# Exercise 72\n",
    "```\n",
    "\n",
    "---"
   ]
  },
  {
   "cell_type": "code",
   "execution_count": null,
   "id": "19f2af7f-98e1-4ea2-9f4d-5146b591654f",
   "metadata": {
    "id": "bea983a3"
   },
   "outputs": [],
   "source": [
    "### Exercise 73:\n",
    "Create a list of tuples where each tuple contains a number from 1 to 5 and its factorial.\n",
    "\n",
    "```python\n",
    "# Exercise 73\n",
    "```\n",
    "\n",
    "---"
   ]
  },
  {
   "cell_type": "code",
   "execution_count": null,
   "id": "3d04cf77-b3c8-497f-9f72-715a8643d7c3",
   "metadata": {
    "id": "bea983a3"
   },
   "outputs": [],
   "source": [
    "### Exercise 74:\n",
    "Write a Python program that converts a list of dictionaries into a single dictionary by merging them.\n",
    "\n",
    "```python\n",
    "# Exercise 74\n",
    "```\n",
    "\n",
    "---"
   ]
  },
  {
   "cell_type": "code",
   "execution_count": null,
   "id": "c2fface7-2305-4e8e-bef8-526af6dd58ae",
   "metadata": {
    "id": "bea983a3"
   },
   "outputs": [],
   "source": [
    "### Exercise 75:\n",
    "Write a Python function that checks if a set is a subset of another set.\n",
    "\n",
    "```python\n",
    "# Exercise 75\n",
    "```\n",
    "\n",
    "---"
   ]
  },
  {
   "cell_type": "code",
   "execution_count": null,
   "id": "29d9afc8-7f61-482a-b89b-2a5427ca11a6",
   "metadata": {
    "id": "bea983a3"
   },
   "outputs": [],
   "source": [
    "### Exercise 76:\n",
    "Write a Python program that sorts a list of tuples based on the second element in each tuple.\n",
    "\n",
    "```python\n",
    "# Exercise 76\n",
    "```\n",
    "\n",
    "---"
   ]
  },
  {
   "cell_type": "code",
   "execution_count": null,
   "id": "fdda02c8-48d7-416d-a33d-90051649be9e",
   "metadata": {
    "id": "bea983a3"
   },
   "outputs": [],
   "source": [
    "### Exercise 77:\n",
    "Write a Python function that takes a list of integers and returns a new list with only the positive integers.\n",
    "\n",
    "```python\n",
    "# Exercise 77\n",
    "```\n",
    "\n",
    "---"
   ]
  },
  {
   "cell_type": "code",
   "execution_count": null,
   "id": "ac95ff50-bd4b-49a9-904b-a9d9656a0eee",
   "metadata": {
    "id": "bea983a3"
   },
   "outputs": [],
   "source": [
    "### Exercise 78:\n",
    "Write a Python function that takes two sets and returns their union.\n",
    "\n",
    "```python\n",
    "# Exercise 78\n",
    "```\n",
    "\n",
    "---"
   ]
  },
  {
   "cell_type": "code",
   "execution_count": null,
   "id": "007ded35-2f57-48ce-a2ee-10ac1dabf89f",
   "metadata": {
    "id": "bea983a3"
   },
   "outputs": [],
   "source": [
    "### Exercise 79:\n",
    "Write a Python function that takes a list of numbers and returns the product of all the numbers.\n",
    "\n",
    "```python\n",
    "# Exercise 79\n",
    "```\n",
    "\n",
    "---"
   ]
  },
  {
   "cell_type": "code",
   "execution_count": null,
   "id": "9e8d6cbc-8e0c-432c-91a5-f8692585d95d",
   "metadata": {
    "id": "bea983a3"
   },
   "outputs": [],
   "source": [
    "### Exercise 80:\n",
    "Write a Python program that converts a list of characters into a string.\n",
    "\n",
    "```python\n",
    "# Exercise 80\n",
    "```\n",
    "\n",
    "---"
   ]
  },
  {
   "cell_type": "code",
   "execution_count": null,
   "id": "c2fbe54a-e442-412d-a2ca-b2613d0a3cd1",
   "metadata": {
    "id": "bea983a3"
   },
   "outputs": [],
   "source": [
    "### Exercise 81:\n",
    "Write a Python program that finds the second largest number in a list of integers.\n",
    "\n",
    "```python\n",
    "# Exercise 81\n",
    "```\n",
    "\n",
    "---"
   ]
  },
  {
   "cell_type": "code",
   "execution_count": null,
   "id": "b176b5e3-49c7-4150-9772-6da4315477e3",
   "metadata": {
    "id": "bea983a3"
   },
   "outputs": [],
   "source": [
    "### Exercise 82:\n",
    "Write a Python function that takes a dictionary and returns a list of its keys in sorted order.\n",
    "\n",
    "```python\n",
    "# Exercise 82\n",
    "```\n",
    "\n",
    "---"
   ]
  },
  {
   "cell_type": "code",
   "execution_count": null,
   "id": "d1d6381a-27ad-4a8a-9da4-3ab6e34929a7",
   "metadata": {
    "id": "bea983a3"
   },
   "outputs": [],
   "source": [
    "### Exercise 83:\n",
    "Write a Python program that finds the most common element in a list.\n",
    "\n",
    "```python\n",
    "# Exercise 83\n",
    "```\n",
    "\n",
    "---"
   ]
  },
  {
   "cell_type": "code",
   "execution_count": null,
   "id": "3cd0b267-a4ee-45b4-bfb8-707742dc4d09",
   "metadata": {
    "id": "bea983a3"
   },
   "outputs": [],
   "source": [
    "### Exercise 84:\n",
    "Write a Python function that takes a list of tuples and returns a list of the tuples sorted by the first element.\n",
    "\n",
    "```python\n",
    "# Exercise 84\n",
    "```\n",
    "\n",
    "---"
   ]
  },
  {
   "cell_type": "code",
   "execution_count": null,
   "id": "b47b8461-afae-48ed-af43-e374a7c57fe2",
   "metadata": {
    "id": "bea983a3"
   },
   "outputs": [],
   "source": [
    "### Exercise 85:\n",
    "Write a Python program that removes duplicates from a list of dictionaries.\n",
    "\n",
    "```python\n",
    "# Exercise 85\n",
    "```\n",
    "\n",
    "---"
   ]
  },
  {
   "cell_type": "code",
   "execution_count": null,
   "id": "8a28873d-2599-45a8-829b-7bfbc60ebc85",
   "metadata": {
    "id": "bea983a3"
   },
   "outputs": [],
   "source": [
    "### Exercise 86:\n",
    "Write a Python function that takes a list of numbers and returns the minimum and maximum numbers in the list.\n",
    "\n",
    "```python\n",
    "# Exercise 86\n",
    "```\n",
    "\n",
    "---"
   ]
  },
  {
   "cell_type": "code",
   "execution_count": null,
   "id": "2fef5dea-979e-4460-825e-a6fcabbda76f",
   "metadata": {
    "id": "bea983a3"
   },
   "outputs": [],
   "source": [
    "### Exercise 87:\n",
    "Write a Python program that creates a list of tuples from two lists.\n",
    "\n",
    "```python\n",
    "# Exercise 87\n",
    "```\n",
    "\n",
    "---"
   ]
  },
  {
   "cell_type": "code",
   "execution_count": null,
   "id": "13dd432e-d01e-4449-9434-71c0a24f5019",
   "metadata": {
    "id": "bea983a3"
   },
   "outputs": [],
   "source": [
    "### Exercise 88:\n",
    "Write a Python function that takes a list of strings and returns a list of the strings in reverse order.\n",
    "\n",
    "```python\n",
    "# Exercise 88\n",
    "```\n",
    "\n",
    "---"
   ]
  },
  {
   "cell_type": "code",
   "execution_count": null,
   "id": "56181612-b128-4015-92df-a455e62be576",
   "metadata": {
    "id": "bea983a3"
   },
   "outputs": [],
   "source": [
    "### Exercise 89:\n",
    "Write a Python function that takes a list of integers and returns the sum of all odd numbers.\n",
    "\n",
    "```python\n",
    "# Exercise 89\n",
    "```\n",
    "\n",
    "---"
   ]
  },
  {
   "cell_type": "code",
   "execution_count": null,
   "id": "fefb8914-50fd-45c3-bc58-c6ea3d07e3c0",
   "metadata": {
    "id": "bea983a3"
   },
   "outputs": [],
   "source": [
    "### Exercise 90:\n",
    "Write a Python program that checks if a string is a palindrome.\n",
    "\n",
    "```python\n",
    "# Exercise 90\n",
    "```\n",
    "\n",
    "---"
   ]
  },
  {
   "cell_type": "code",
   "execution_count": null,
   "id": "f9e6ca90-18f6-4868-a081-374c464187cb",
   "metadata": {
    "id": "bea983a3"
   },
   "outputs": [],
   "source": [
    "### Exercise 91:\n",
    "Write a Python program that finds the median of a list of numbers.\n",
    "\n",
    "```python\n",
    "# Exercise 91\n",
    "```\n",
    "\n",
    "---"
   ]
  },
  {
   "cell_type": "code",
   "execution_count": null,
   "id": "b2c10ca8-3835-431e-981d-fad847267a19",
   "metadata": {
    "id": "bea983a3"
   },
   "outputs": [],
   "source": [
    "### Exercise 92:\n",
    "Write a Python function that takes a list of dictionaries and returns a dictionary with the total value for each key.\n",
    "\n",
    "```python\n",
    "# Exercise 92\n",
    "```\n",
    "\n",
    "---"
   ]
  },
  {
   "cell_type": "code",
   "execution_count": null,
   "id": "f71a4166-9e26-4219-bf87-1dcd6a2c41cb",
   "metadata": {
    "id": "bea983a3"
   },
   "outputs": [],
   "source": [
    "### Exercise 93:\n",
    "Write a Python program that calculates the mode of a list of numbers.\n",
    "\n",
    "```python\n",
    "# Exercise 93\n",
    "```\n",
    "\n",
    "---"
   ]
  },
  {
   "cell_type": "code",
   "execution_count": null,
   "id": "0222df5b-4047-4700-85e9-18433b9517da",
   "metadata": {
    "id": "bea983a3"
   },
   "outputs": [],
   "source": [
    "### Exercise 94:\n",
    "Write a Python function that takes a list of numbers and returns the sum of the squares of all the numbers.\n",
    "\n",
    "```python\n",
    "# Exercise 94\n",
    "```\n",
    "\n",
    "---"
   ]
  },
  {
   "cell_type": "code",
   "execution_count": null,
   "id": "93900b53-de1a-4a89-bd71-67e9dc2edb84",
   "metadata": {
    "id": "bea983a3"
   },
   "outputs": [],
   "source": [
    "### Exercise 95:\n",
    "Write a Python program that creates a list of tuples, where each tuple contains a number and its cube for numbers from 1 to 5.\n",
    "\n",
    "```python\n",
    "# Exercise 95\n",
    "```\n",
    "\n",
    "---"
   ]
  },
  {
   "cell_type": "code",
   "execution_count": null,
   "id": "beff7547-d5b9-4480-8a53-1d5d2edf9756",
   "metadata": {
    "id": "bea983a3"
   },
   "outputs": [],
   "source": [
    "### Exercise 96:\n",
    "Write a Python function that returns a list of all prime numbers up to `n`.\n",
    "\n",
    "```python\n",
    "# Exercise 96\n",
    "```\n",
    "\n",
    "---"
   ]
  },
  {
   "cell_type": "code",
   "execution_count": null,
   "id": "99772958-fbdf-4a95-9285-7faa3b800eb5",
   "metadata": {
    "id": "bea983a3"
   },
   "outputs": [],
   "source": [
    "### Exercise 97:\n",
    "Write a Python program that finds the common keys between two dictionaries.\n",
    "\n",
    "```python\n",
    "# Exercise 97\n",
    "```\n",
    "\n",
    "---"
   ]
  },
  {
   "cell_type": "code",
   "execution_count": null,
   "id": "c8e84af2-8c84-40c0-9723-df160e21bd7a",
   "metadata": {
    "id": "bea983a3"
   },
   "outputs": [],
   "source": [
    "### Exercise 98:\n",
    "Write a Python function that takes a list of strings and returns a list of the strings that contain more than 5 characters.\n",
    "\n",
    "```python\n",
    "# Exercise 98\n",
    "```\n",
    "\n",
    "---"
   ]
  },
  {
   "cell_type": "code",
   "execution_count": null,
   "id": "3e8252c1-fa07-4bd3-868f-23e860ca337d",
   "metadata": {
    "id": "bea983a3"
   },
   "outputs": [],
   "source": [
    "### Exercise 99:\n",
    "Write a Python program that converts a list of strings into a list of tuples, where each tuple contains the string and its length.\n",
    "\n",
    "```python\n",
    "# Exercise 99\n",
    "```\n",
    "\n",
    "---"
   ]
  },
  {
   "cell_type": "code",
   "execution_count": null,
   "id": "142462d0-6580-4d0c-811f-f522c230a6cb",
   "metadata": {
    "id": "bea983a3"
   },
   "outputs": [],
   "source": [
    "### Exercise 100:\n",
    "Write a Python function that takes a list of dictionaries and returns a new dictionary by summing the values of each key across all dictionaries.\n",
    "\n",
    "```python\n",
    "# Exercise 100\n",
    "```\n",
    "\n",
    "---"
   ]
  }
 ],
 "metadata": {
  "colab": {
   "provenance": []
  },
  "kernelspec": {
   "display_name": "Python [conda env:base] *",
   "language": "python",
   "name": "conda-base-py"
  },
  "language_info": {
   "codemirror_mode": {
    "name": "ipython",
    "version": 3
   },
   "file_extension": ".py",
   "mimetype": "text/x-python",
   "name": "python",
   "nbconvert_exporter": "python",
   "pygments_lexer": "ipython3",
   "version": "3.12.7"
  }
 },
 "nbformat": 4,
 "nbformat_minor": 5
}
